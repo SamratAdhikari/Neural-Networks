{
 "cells": [
  {
   "cell_type": "markdown",
   "id": "86251301",
   "metadata": {},
   "source": [
    "# <center>Leading Club Classification</center>"
   ]
  },
  {
   "cell_type": "markdown",
   "id": "4d95bf81",
   "metadata": {},
   "source": [
    "## Modules"
   ]
  },
  {
   "cell_type": "code",
   "execution_count": 76,
   "id": "39bf398c",
   "metadata": {},
   "outputs": [],
   "source": [
    "import numpy as np\n",
    "import pandas as pd\n",
    "import matplotlib.pyplot as plt\n",
    "import seaborn as sns\n",
    "import datetime\n",
    "\n",
    "from sklearn.preprocessing import LabelEncoder\n",
    "from sklearn.model_selection import train_test_split\n",
    "from sklearn.preprocessing import MinMaxScaler\n",
    "from sklearn.metrics import classification_report, confusion_matrix\n",
    "\n",
    "from tensorflow.keras.models import Sequential \n",
    "from tensorflow.keras.layers import Dense, Dropout\n",
    "from tensorflow.keras.callbacks import EarlyStopping\n",
    "\n",
    "import warnings\n",
    "warnings.filterwarnings('ignore')"
   ]
  },
  {
   "cell_type": "code",
   "execution_count": 2,
   "id": "a5cfed65",
   "metadata": {},
   "outputs": [
    {
     "data": {
      "text/html": [
       "<div>\n",
       "<style scoped>\n",
       "    .dataframe tbody tr th:only-of-type {\n",
       "        vertical-align: middle;\n",
       "    }\n",
       "\n",
       "    .dataframe tbody tr th {\n",
       "        vertical-align: top;\n",
       "    }\n",
       "\n",
       "    .dataframe thead th {\n",
       "        text-align: right;\n",
       "    }\n",
       "</style>\n",
       "<table border=\"1\" class=\"dataframe\">\n",
       "  <thead>\n",
       "    <tr style=\"text-align: right;\">\n",
       "      <th></th>\n",
       "      <th>LoanStatNew</th>\n",
       "      <th>Description</th>\n",
       "    </tr>\n",
       "  </thead>\n",
       "  <tbody>\n",
       "    <tr>\n",
       "      <th>0</th>\n",
       "      <td>loan_amnt</td>\n",
       "      <td>The listed amount of the loan applied for by the borrower. If at some point in time, the credit department reduces the loan amount, then it will be reflected in this value.</td>\n",
       "    </tr>\n",
       "    <tr>\n",
       "      <th>1</th>\n",
       "      <td>term</td>\n",
       "      <td>The number of payments on the loan. Values are in months and can be either 36 or 60.</td>\n",
       "    </tr>\n",
       "    <tr>\n",
       "      <th>2</th>\n",
       "      <td>int_rate</td>\n",
       "      <td>Interest Rate on the loan</td>\n",
       "    </tr>\n",
       "    <tr>\n",
       "      <th>3</th>\n",
       "      <td>installment</td>\n",
       "      <td>The monthly payment owed by the borrower if the loan originates.</td>\n",
       "    </tr>\n",
       "    <tr>\n",
       "      <th>4</th>\n",
       "      <td>grade</td>\n",
       "      <td>LC assigned loan grade</td>\n",
       "    </tr>\n",
       "    <tr>\n",
       "      <th>5</th>\n",
       "      <td>sub_grade</td>\n",
       "      <td>LC assigned loan subgrade</td>\n",
       "    </tr>\n",
       "    <tr>\n",
       "      <th>6</th>\n",
       "      <td>emp_title</td>\n",
       "      <td>The job title supplied by the Borrower when applying for the loan.*</td>\n",
       "    </tr>\n",
       "    <tr>\n",
       "      <th>7</th>\n",
       "      <td>emp_length</td>\n",
       "      <td>Employment length in years. Possible values are between 0 and 10 where 0 means less than one year and 10 means ten or more years.</td>\n",
       "    </tr>\n",
       "    <tr>\n",
       "      <th>8</th>\n",
       "      <td>home_ownership</td>\n",
       "      <td>The home ownership status provided by the borrower during registration or obtained from the credit report. Our values are: RENT, OWN, MORTGAGE, OTHER</td>\n",
       "    </tr>\n",
       "    <tr>\n",
       "      <th>9</th>\n",
       "      <td>annual_inc</td>\n",
       "      <td>The self-reported annual income provided by the borrower during registration.</td>\n",
       "    </tr>\n",
       "    <tr>\n",
       "      <th>10</th>\n",
       "      <td>verification_status</td>\n",
       "      <td>Indicates if income was verified by LC, not verified, or if the income source was verified</td>\n",
       "    </tr>\n",
       "    <tr>\n",
       "      <th>11</th>\n",
       "      <td>issue_d</td>\n",
       "      <td>The month which the loan was funded</td>\n",
       "    </tr>\n",
       "    <tr>\n",
       "      <th>12</th>\n",
       "      <td>loan_status</td>\n",
       "      <td>Current status of the loan</td>\n",
       "    </tr>\n",
       "    <tr>\n",
       "      <th>13</th>\n",
       "      <td>purpose</td>\n",
       "      <td>A category provided by the borrower for the loan request.</td>\n",
       "    </tr>\n",
       "    <tr>\n",
       "      <th>14</th>\n",
       "      <td>title</td>\n",
       "      <td>The loan title provided by the borrower</td>\n",
       "    </tr>\n",
       "    <tr>\n",
       "      <th>15</th>\n",
       "      <td>zip_code</td>\n",
       "      <td>The first 3 numbers of the zip code provided by the borrower in the loan application.</td>\n",
       "    </tr>\n",
       "    <tr>\n",
       "      <th>16</th>\n",
       "      <td>addr_state</td>\n",
       "      <td>The state provided by the borrower in the loan application</td>\n",
       "    </tr>\n",
       "    <tr>\n",
       "      <th>17</th>\n",
       "      <td>dti</td>\n",
       "      <td>A ratio calculated using the borrower’s total monthly debt payments on the total debt obligations, excluding mortgage and the requested LC loan, divided by the borrower’s self-reported monthly income.</td>\n",
       "    </tr>\n",
       "    <tr>\n",
       "      <th>18</th>\n",
       "      <td>earliest_cr_line</td>\n",
       "      <td>The month the borrower's earliest reported credit line was opened</td>\n",
       "    </tr>\n",
       "    <tr>\n",
       "      <th>19</th>\n",
       "      <td>open_acc</td>\n",
       "      <td>The number of open credit lines in the borrower's credit file.</td>\n",
       "    </tr>\n",
       "    <tr>\n",
       "      <th>20</th>\n",
       "      <td>pub_rec</td>\n",
       "      <td>Number of derogatory public records</td>\n",
       "    </tr>\n",
       "    <tr>\n",
       "      <th>21</th>\n",
       "      <td>revol_bal</td>\n",
       "      <td>Total credit revolving balance</td>\n",
       "    </tr>\n",
       "    <tr>\n",
       "      <th>22</th>\n",
       "      <td>revol_util</td>\n",
       "      <td>Revolving line utilization rate, or the amount of credit the borrower is using relative to all available revolving credit.</td>\n",
       "    </tr>\n",
       "    <tr>\n",
       "      <th>23</th>\n",
       "      <td>total_acc</td>\n",
       "      <td>The total number of credit lines currently in the borrower's credit file</td>\n",
       "    </tr>\n",
       "    <tr>\n",
       "      <th>24</th>\n",
       "      <td>initial_list_status</td>\n",
       "      <td>The initial listing status of the loan. Possible values are – W, F</td>\n",
       "    </tr>\n",
       "    <tr>\n",
       "      <th>25</th>\n",
       "      <td>application_type</td>\n",
       "      <td>Indicates whether the loan is an individual application or a joint application with two co-borrowers</td>\n",
       "    </tr>\n",
       "    <tr>\n",
       "      <th>26</th>\n",
       "      <td>mort_acc</td>\n",
       "      <td>Number of mortgage accounts.</td>\n",
       "    </tr>\n",
       "    <tr>\n",
       "      <th>27</th>\n",
       "      <td>pub_rec_bankruptcies</td>\n",
       "      <td>Number of public record bankruptcies</td>\n",
       "    </tr>\n",
       "  </tbody>\n",
       "</table>\n",
       "</div>"
      ],
      "text/plain": [
       "             LoanStatNew                                                                                                                                                                                               Description\n",
       "0              loan_amnt                              The listed amount of the loan applied for by the borrower. If at some point in time, the credit department reduces the loan amount, then it will be reflected in this value.\n",
       "1                   term                                                                                                                      The number of payments on the loan. Values are in months and can be either 36 or 60.\n",
       "2               int_rate                                                                                                                                                                                 Interest Rate on the loan\n",
       "3            installment                                                                                                                                          The monthly payment owed by the borrower if the loan originates.\n",
       "4                  grade                                                                                                                                                                                    LC assigned loan grade\n",
       "5              sub_grade                                                                                                                                                                                 LC assigned loan subgrade\n",
       "6              emp_title                                                                                                                                       The job title supplied by the Borrower when applying for the loan.*\n",
       "7             emp_length                                                                        Employment length in years. Possible values are between 0 and 10 where 0 means less than one year and 10 means ten or more years. \n",
       "8         home_ownership                                                     The home ownership status provided by the borrower during registration or obtained from the credit report. Our values are: RENT, OWN, MORTGAGE, OTHER\n",
       "9             annual_inc                                                                                                                             The self-reported annual income provided by the borrower during registration.\n",
       "10   verification_status                                                                                                                Indicates if income was verified by LC, not verified, or if the income source was verified\n",
       "11               issue_d                                                                                                                                                                       The month which the loan was funded\n",
       "12           loan_status                                                                                                                                                                                Current status of the loan\n",
       "13               purpose                                                                                                                                                A category provided by the borrower for the loan request. \n",
       "14                 title                                                                                                                                                                   The loan title provided by the borrower\n",
       "15              zip_code                                                                                                                     The first 3 numbers of the zip code provided by the borrower in the loan application.\n",
       "16            addr_state                                                                                                                                                The state provided by the borrower in the loan application\n",
       "17                   dti  A ratio calculated using the borrower’s total monthly debt payments on the total debt obligations, excluding mortgage and the requested LC loan, divided by the borrower’s self-reported monthly income.\n",
       "18      earliest_cr_line                                                                                                                                         The month the borrower's earliest reported credit line was opened\n",
       "19              open_acc                                                                                                                                            The number of open credit lines in the borrower's credit file.\n",
       "20               pub_rec                                                                                                                                                                       Number of derogatory public records\n",
       "21             revol_bal                                                                                                                                                                            Total credit revolving balance\n",
       "22            revol_util                                                                                Revolving line utilization rate, or the amount of credit the borrower is using relative to all available revolving credit.\n",
       "23             total_acc                                                                                                                                  The total number of credit lines currently in the borrower's credit file\n",
       "24   initial_list_status                                                                                                                                        The initial listing status of the loan. Possible values are – W, F\n",
       "25      application_type                                                                                                      Indicates whether the loan is an individual application or a joint application with two co-borrowers\n",
       "26              mort_acc                                                                                                                                                                              Number of mortgage accounts.\n",
       "27  pub_rec_bankruptcies                                                                                                                                                                      Number of public record bankruptcies"
      ]
     },
     "execution_count": 2,
     "metadata": {},
     "output_type": "execute_result"
    }
   ],
   "source": [
    "# Set display options to show all content\n",
    "pd.set_option('display.max_colwidth', None)\n",
    "pd.set_option('display.expand_frame_repr', False)\n",
    "pd.read_csv('info.csv')"
   ]
  },
  {
   "cell_type": "markdown",
   "id": "4f51015d",
   "metadata": {},
   "source": [
    "## Initialize the dataframe"
   ]
  },
  {
   "cell_type": "code",
   "execution_count": 3,
   "id": "89993767",
   "metadata": {},
   "outputs": [
    {
     "data": {
      "text/html": [
       "<div>\n",
       "<style scoped>\n",
       "    .dataframe tbody tr th:only-of-type {\n",
       "        vertical-align: middle;\n",
       "    }\n",
       "\n",
       "    .dataframe tbody tr th {\n",
       "        vertical-align: top;\n",
       "    }\n",
       "\n",
       "    .dataframe thead th {\n",
       "        text-align: right;\n",
       "    }\n",
       "</style>\n",
       "<table border=\"1\" class=\"dataframe\">\n",
       "  <thead>\n",
       "    <tr style=\"text-align: right;\">\n",
       "      <th></th>\n",
       "      <th>loan_amnt</th>\n",
       "      <th>term</th>\n",
       "      <th>int_rate</th>\n",
       "      <th>installment</th>\n",
       "      <th>grade</th>\n",
       "      <th>sub_grade</th>\n",
       "      <th>emp_title</th>\n",
       "      <th>emp_length</th>\n",
       "      <th>home_ownership</th>\n",
       "      <th>annual_inc</th>\n",
       "      <th>...</th>\n",
       "      <th>open_acc</th>\n",
       "      <th>pub_rec</th>\n",
       "      <th>revol_bal</th>\n",
       "      <th>revol_util</th>\n",
       "      <th>total_acc</th>\n",
       "      <th>initial_list_status</th>\n",
       "      <th>application_type</th>\n",
       "      <th>mort_acc</th>\n",
       "      <th>pub_rec_bankruptcies</th>\n",
       "      <th>address</th>\n",
       "    </tr>\n",
       "  </thead>\n",
       "  <tbody>\n",
       "    <tr>\n",
       "      <th>0</th>\n",
       "      <td>10000.0</td>\n",
       "      <td>36 months</td>\n",
       "      <td>11.44</td>\n",
       "      <td>329.48</td>\n",
       "      <td>B</td>\n",
       "      <td>B4</td>\n",
       "      <td>Marketing</td>\n",
       "      <td>10+ years</td>\n",
       "      <td>RENT</td>\n",
       "      <td>117000.0</td>\n",
       "      <td>...</td>\n",
       "      <td>16.0</td>\n",
       "      <td>0.0</td>\n",
       "      <td>36369.0</td>\n",
       "      <td>41.8</td>\n",
       "      <td>25.0</td>\n",
       "      <td>w</td>\n",
       "      <td>INDIVIDUAL</td>\n",
       "      <td>0.0</td>\n",
       "      <td>0.0</td>\n",
       "      <td>0174 Michelle Gateway\\nMendozaberg, OK 22690</td>\n",
       "    </tr>\n",
       "    <tr>\n",
       "      <th>1</th>\n",
       "      <td>8000.0</td>\n",
       "      <td>36 months</td>\n",
       "      <td>11.99</td>\n",
       "      <td>265.68</td>\n",
       "      <td>B</td>\n",
       "      <td>B5</td>\n",
       "      <td>Credit analyst</td>\n",
       "      <td>4 years</td>\n",
       "      <td>MORTGAGE</td>\n",
       "      <td>65000.0</td>\n",
       "      <td>...</td>\n",
       "      <td>17.0</td>\n",
       "      <td>0.0</td>\n",
       "      <td>20131.0</td>\n",
       "      <td>53.3</td>\n",
       "      <td>27.0</td>\n",
       "      <td>f</td>\n",
       "      <td>INDIVIDUAL</td>\n",
       "      <td>3.0</td>\n",
       "      <td>0.0</td>\n",
       "      <td>1076 Carney Fort Apt. 347\\nLoganmouth, SD 05113</td>\n",
       "    </tr>\n",
       "    <tr>\n",
       "      <th>2</th>\n",
       "      <td>15600.0</td>\n",
       "      <td>36 months</td>\n",
       "      <td>10.49</td>\n",
       "      <td>506.97</td>\n",
       "      <td>B</td>\n",
       "      <td>B3</td>\n",
       "      <td>Statistician</td>\n",
       "      <td>&lt; 1 year</td>\n",
       "      <td>RENT</td>\n",
       "      <td>43057.0</td>\n",
       "      <td>...</td>\n",
       "      <td>13.0</td>\n",
       "      <td>0.0</td>\n",
       "      <td>11987.0</td>\n",
       "      <td>92.2</td>\n",
       "      <td>26.0</td>\n",
       "      <td>f</td>\n",
       "      <td>INDIVIDUAL</td>\n",
       "      <td>0.0</td>\n",
       "      <td>0.0</td>\n",
       "      <td>87025 Mark Dale Apt. 269\\nNew Sabrina, WV 05113</td>\n",
       "    </tr>\n",
       "    <tr>\n",
       "      <th>3</th>\n",
       "      <td>7200.0</td>\n",
       "      <td>36 months</td>\n",
       "      <td>6.49</td>\n",
       "      <td>220.65</td>\n",
       "      <td>A</td>\n",
       "      <td>A2</td>\n",
       "      <td>Client Advocate</td>\n",
       "      <td>6 years</td>\n",
       "      <td>RENT</td>\n",
       "      <td>54000.0</td>\n",
       "      <td>...</td>\n",
       "      <td>6.0</td>\n",
       "      <td>0.0</td>\n",
       "      <td>5472.0</td>\n",
       "      <td>21.5</td>\n",
       "      <td>13.0</td>\n",
       "      <td>f</td>\n",
       "      <td>INDIVIDUAL</td>\n",
       "      <td>0.0</td>\n",
       "      <td>0.0</td>\n",
       "      <td>823 Reid Ford\\nDelacruzside, MA 00813</td>\n",
       "    </tr>\n",
       "    <tr>\n",
       "      <th>4</th>\n",
       "      <td>24375.0</td>\n",
       "      <td>60 months</td>\n",
       "      <td>17.27</td>\n",
       "      <td>609.33</td>\n",
       "      <td>C</td>\n",
       "      <td>C5</td>\n",
       "      <td>Destiny Management Inc.</td>\n",
       "      <td>9 years</td>\n",
       "      <td>MORTGAGE</td>\n",
       "      <td>55000.0</td>\n",
       "      <td>...</td>\n",
       "      <td>13.0</td>\n",
       "      <td>0.0</td>\n",
       "      <td>24584.0</td>\n",
       "      <td>69.8</td>\n",
       "      <td>43.0</td>\n",
       "      <td>f</td>\n",
       "      <td>INDIVIDUAL</td>\n",
       "      <td>1.0</td>\n",
       "      <td>0.0</td>\n",
       "      <td>679 Luna Roads\\nGreggshire, VA 11650</td>\n",
       "    </tr>\n",
       "  </tbody>\n",
       "</table>\n",
       "<p>5 rows × 27 columns</p>\n",
       "</div>"
      ],
      "text/plain": [
       "   loan_amnt        term  int_rate  installment grade sub_grade                emp_title emp_length home_ownership  annual_inc  ... open_acc pub_rec revol_bal revol_util total_acc  initial_list_status application_type  mort_acc  pub_rec_bankruptcies                                          address\n",
       "0    10000.0   36 months     11.44       329.48     B        B4                Marketing  10+ years           RENT    117000.0  ...     16.0     0.0   36369.0       41.8      25.0                    w       INDIVIDUAL       0.0                   0.0     0174 Michelle Gateway\\nMendozaberg, OK 22690\n",
       "1     8000.0   36 months     11.99       265.68     B        B5          Credit analyst     4 years       MORTGAGE     65000.0  ...     17.0     0.0   20131.0       53.3      27.0                    f       INDIVIDUAL       3.0                   0.0  1076 Carney Fort Apt. 347\\nLoganmouth, SD 05113\n",
       "2    15600.0   36 months     10.49       506.97     B        B3             Statistician   < 1 year           RENT     43057.0  ...     13.0     0.0   11987.0       92.2      26.0                    f       INDIVIDUAL       0.0                   0.0  87025 Mark Dale Apt. 269\\nNew Sabrina, WV 05113\n",
       "3     7200.0   36 months      6.49       220.65     A        A2          Client Advocate    6 years           RENT     54000.0  ...      6.0     0.0    5472.0       21.5      13.0                    f       INDIVIDUAL       0.0                   0.0            823 Reid Ford\\nDelacruzside, MA 00813\n",
       "4    24375.0   60 months     17.27       609.33     C        C5  Destiny Management Inc.    9 years       MORTGAGE     55000.0  ...     13.0     0.0   24584.0       69.8      43.0                    f       INDIVIDUAL       1.0                   0.0             679 Luna Roads\\nGreggshire, VA 11650\n",
       "\n",
       "[5 rows x 27 columns]"
      ]
     },
     "execution_count": 3,
     "metadata": {},
     "output_type": "execute_result"
    }
   ],
   "source": [
    "df = pd.read_csv('data.csv')\n",
    "df.head()"
   ]
  },
  {
   "cell_type": "code",
   "execution_count": 4,
   "id": "b699bfc7",
   "metadata": {},
   "outputs": [
    {
     "name": "stdout",
     "output_type": "stream",
     "text": [
      "<class 'pandas.core.frame.DataFrame'>\n",
      "RangeIndex: 396030 entries, 0 to 396029\n",
      "Data columns (total 27 columns):\n",
      " #   Column                Non-Null Count   Dtype  \n",
      "---  ------                --------------   -----  \n",
      " 0   loan_amnt             396030 non-null  float64\n",
      " 1   term                  396030 non-null  object \n",
      " 2   int_rate              396030 non-null  float64\n",
      " 3   installment           396030 non-null  float64\n",
      " 4   grade                 396030 non-null  object \n",
      " 5   sub_grade             396030 non-null  object \n",
      " 6   emp_title             373103 non-null  object \n",
      " 7   emp_length            377729 non-null  object \n",
      " 8   home_ownership        396030 non-null  object \n",
      " 9   annual_inc            396030 non-null  float64\n",
      " 10  verification_status   396030 non-null  object \n",
      " 11  issue_d               396030 non-null  object \n",
      " 12  loan_status           396030 non-null  object \n",
      " 13  purpose               396030 non-null  object \n",
      " 14  title                 394274 non-null  object \n",
      " 15  dti                   396030 non-null  float64\n",
      " 16  earliest_cr_line      396030 non-null  object \n",
      " 17  open_acc              396030 non-null  float64\n",
      " 18  pub_rec               396030 non-null  float64\n",
      " 19  revol_bal             396030 non-null  float64\n",
      " 20  revol_util            395754 non-null  float64\n",
      " 21  total_acc             396030 non-null  float64\n",
      " 22  initial_list_status   396030 non-null  object \n",
      " 23  application_type      396030 non-null  object \n",
      " 24  mort_acc              358235 non-null  float64\n",
      " 25  pub_rec_bankruptcies  395495 non-null  float64\n",
      " 26  address               396030 non-null  object \n",
      "dtypes: float64(12), object(15)\n",
      "memory usage: 81.6+ MB\n"
     ]
    }
   ],
   "source": [
    "df.info()"
   ]
  },
  {
   "cell_type": "code",
   "execution_count": 5,
   "id": "30901b8c",
   "metadata": {},
   "outputs": [
    {
     "data": {
      "text/html": [
       "<div>\n",
       "<style scoped>\n",
       "    .dataframe tbody tr th:only-of-type {\n",
       "        vertical-align: middle;\n",
       "    }\n",
       "\n",
       "    .dataframe tbody tr th {\n",
       "        vertical-align: top;\n",
       "    }\n",
       "\n",
       "    .dataframe thead th {\n",
       "        text-align: right;\n",
       "    }\n",
       "</style>\n",
       "<table border=\"1\" class=\"dataframe\">\n",
       "  <thead>\n",
       "    <tr style=\"text-align: right;\">\n",
       "      <th></th>\n",
       "      <th>Column Name</th>\n",
       "      <th>Unique Values</th>\n",
       "      <th>Data Types</th>\n",
       "    </tr>\n",
       "  </thead>\n",
       "  <tbody>\n",
       "    <tr>\n",
       "      <th>0</th>\n",
       "      <td>loan_amnt</td>\n",
       "      <td>1397</td>\n",
       "      <td>float64</td>\n",
       "    </tr>\n",
       "    <tr>\n",
       "      <th>1</th>\n",
       "      <td>term</td>\n",
       "      <td>2</td>\n",
       "      <td>object</td>\n",
       "    </tr>\n",
       "    <tr>\n",
       "      <th>2</th>\n",
       "      <td>int_rate</td>\n",
       "      <td>566</td>\n",
       "      <td>float64</td>\n",
       "    </tr>\n",
       "    <tr>\n",
       "      <th>3</th>\n",
       "      <td>installment</td>\n",
       "      <td>55706</td>\n",
       "      <td>float64</td>\n",
       "    </tr>\n",
       "    <tr>\n",
       "      <th>4</th>\n",
       "      <td>grade</td>\n",
       "      <td>7</td>\n",
       "      <td>object</td>\n",
       "    </tr>\n",
       "    <tr>\n",
       "      <th>5</th>\n",
       "      <td>sub_grade</td>\n",
       "      <td>35</td>\n",
       "      <td>object</td>\n",
       "    </tr>\n",
       "    <tr>\n",
       "      <th>6</th>\n",
       "      <td>emp_title</td>\n",
       "      <td>173105</td>\n",
       "      <td>object</td>\n",
       "    </tr>\n",
       "    <tr>\n",
       "      <th>7</th>\n",
       "      <td>emp_length</td>\n",
       "      <td>11</td>\n",
       "      <td>object</td>\n",
       "    </tr>\n",
       "    <tr>\n",
       "      <th>8</th>\n",
       "      <td>home_ownership</td>\n",
       "      <td>6</td>\n",
       "      <td>object</td>\n",
       "    </tr>\n",
       "    <tr>\n",
       "      <th>9</th>\n",
       "      <td>annual_inc</td>\n",
       "      <td>27197</td>\n",
       "      <td>float64</td>\n",
       "    </tr>\n",
       "    <tr>\n",
       "      <th>10</th>\n",
       "      <td>verification_status</td>\n",
       "      <td>3</td>\n",
       "      <td>object</td>\n",
       "    </tr>\n",
       "    <tr>\n",
       "      <th>11</th>\n",
       "      <td>issue_d</td>\n",
       "      <td>115</td>\n",
       "      <td>object</td>\n",
       "    </tr>\n",
       "    <tr>\n",
       "      <th>12</th>\n",
       "      <td>loan_status</td>\n",
       "      <td>2</td>\n",
       "      <td>object</td>\n",
       "    </tr>\n",
       "    <tr>\n",
       "      <th>13</th>\n",
       "      <td>purpose</td>\n",
       "      <td>14</td>\n",
       "      <td>object</td>\n",
       "    </tr>\n",
       "    <tr>\n",
       "      <th>14</th>\n",
       "      <td>title</td>\n",
       "      <td>48816</td>\n",
       "      <td>object</td>\n",
       "    </tr>\n",
       "    <tr>\n",
       "      <th>15</th>\n",
       "      <td>dti</td>\n",
       "      <td>4262</td>\n",
       "      <td>float64</td>\n",
       "    </tr>\n",
       "    <tr>\n",
       "      <th>16</th>\n",
       "      <td>earliest_cr_line</td>\n",
       "      <td>684</td>\n",
       "      <td>object</td>\n",
       "    </tr>\n",
       "    <tr>\n",
       "      <th>17</th>\n",
       "      <td>open_acc</td>\n",
       "      <td>61</td>\n",
       "      <td>float64</td>\n",
       "    </tr>\n",
       "    <tr>\n",
       "      <th>18</th>\n",
       "      <td>pub_rec</td>\n",
       "      <td>20</td>\n",
       "      <td>float64</td>\n",
       "    </tr>\n",
       "    <tr>\n",
       "      <th>19</th>\n",
       "      <td>revol_bal</td>\n",
       "      <td>55622</td>\n",
       "      <td>float64</td>\n",
       "    </tr>\n",
       "    <tr>\n",
       "      <th>20</th>\n",
       "      <td>revol_util</td>\n",
       "      <td>1226</td>\n",
       "      <td>float64</td>\n",
       "    </tr>\n",
       "    <tr>\n",
       "      <th>21</th>\n",
       "      <td>total_acc</td>\n",
       "      <td>118</td>\n",
       "      <td>float64</td>\n",
       "    </tr>\n",
       "    <tr>\n",
       "      <th>22</th>\n",
       "      <td>initial_list_status</td>\n",
       "      <td>2</td>\n",
       "      <td>object</td>\n",
       "    </tr>\n",
       "    <tr>\n",
       "      <th>23</th>\n",
       "      <td>application_type</td>\n",
       "      <td>3</td>\n",
       "      <td>object</td>\n",
       "    </tr>\n",
       "    <tr>\n",
       "      <th>24</th>\n",
       "      <td>mort_acc</td>\n",
       "      <td>33</td>\n",
       "      <td>float64</td>\n",
       "    </tr>\n",
       "    <tr>\n",
       "      <th>25</th>\n",
       "      <td>pub_rec_bankruptcies</td>\n",
       "      <td>9</td>\n",
       "      <td>float64</td>\n",
       "    </tr>\n",
       "    <tr>\n",
       "      <th>26</th>\n",
       "      <td>address</td>\n",
       "      <td>393700</td>\n",
       "      <td>object</td>\n",
       "    </tr>\n",
       "  </tbody>\n",
       "</table>\n",
       "</div>"
      ],
      "text/plain": [
       "             Column Name  Unique Values Data Types\n",
       "0              loan_amnt           1397    float64\n",
       "1                   term              2     object\n",
       "2               int_rate            566    float64\n",
       "3            installment          55706    float64\n",
       "4                  grade              7     object\n",
       "5              sub_grade             35     object\n",
       "6              emp_title         173105     object\n",
       "7             emp_length             11     object\n",
       "8         home_ownership              6     object\n",
       "9             annual_inc          27197    float64\n",
       "10   verification_status              3     object\n",
       "11               issue_d            115     object\n",
       "12           loan_status              2     object\n",
       "13               purpose             14     object\n",
       "14                 title          48816     object\n",
       "15                   dti           4262    float64\n",
       "16      earliest_cr_line            684     object\n",
       "17              open_acc             61    float64\n",
       "18               pub_rec             20    float64\n",
       "19             revol_bal          55622    float64\n",
       "20            revol_util           1226    float64\n",
       "21             total_acc            118    float64\n",
       "22   initial_list_status              2     object\n",
       "23      application_type              3     object\n",
       "24              mort_acc             33    float64\n",
       "25  pub_rec_bankruptcies              9    float64\n",
       "26               address         393700     object"
      ]
     },
     "execution_count": 5,
     "metadata": {},
     "output_type": "execute_result"
    }
   ],
   "source": [
    "pd.DataFrame({'Unique Values': df.nunique(), 'Data Types': df.dtypes})\n",
    "pd.DataFrame({'Column Name': df.columns, 'Unique Values': df.nunique(), 'Data Types': df.dtypes}).reset_index(drop=True)"
   ]
  },
  {
   "cell_type": "markdown",
   "id": "5243b43f",
   "metadata": {},
   "source": [
    "## Exploratory Data Analysis"
   ]
  },
  {
   "cell_type": "code",
   "execution_count": 6,
   "id": "8db40509",
   "metadata": {},
   "outputs": [],
   "source": [
    "features = ['term', 'home_ownership', 'verification_status', 'initial_list_status', 'application_type', 'pub_rec_bankruptcies']"
   ]
  },
  {
   "cell_type": "code",
   "execution_count": 7,
   "id": "294bd5ad",
   "metadata": {},
   "outputs": [
    {
     "data": {
      "image/png": "[encoded data removed]",
      "text/plain": [
       "<Figure size 1500x1000 with 6 Axes>"
      ]
     },
     "metadata": {},
     "output_type": "display_data"
    }
   ],
   "source": [
    "fig, axes = plt.subplots(3, 2, figsize=(15, 10))\n",
    "axes = axes.flatten()\n",
    "\n",
    "for i, feature in enumerate(features):\n",
    "    ax = axes[i]\n",
    "    sns.countplot(data=df, x=feature, hue='loan_status', ax=ax)\n",
    "\n",
    "plt.tight_layout()\n",
    "plt.show()"
   ]
  },
  {
   "cell_type": "markdown",
   "id": "03feda42",
   "metadata": {},
   "source": [
    "## Data Wrangling"
   ]
  },
  {
   "cell_type": "code",
   "execution_count": 8,
   "id": "48d705b8",
   "metadata": {
    "scrolled": false
   },
   "outputs": [
    {
     "data": {
      "text/plain": [
       "loan_amnt                   0\n",
       "term                        0\n",
       "int_rate                    0\n",
       "installment                 0\n",
       "grade                       0\n",
       "sub_grade                   0\n",
       "emp_title               22927\n",
       "emp_length              18301\n",
       "home_ownership              0\n",
       "annual_inc                  0\n",
       "verification_status         0\n",
       "issue_d                     0\n",
       "loan_status                 0\n",
       "purpose                     0\n",
       "title                    1756\n",
       "dti                         0\n",
       "earliest_cr_line            0\n",
       "open_acc                    0\n",
       "pub_rec                     0\n",
       "revol_bal                   0\n",
       "revol_util                276\n",
       "total_acc                   0\n",
       "initial_list_status         0\n",
       "application_type            0\n",
       "mort_acc                37795\n",
       "pub_rec_bankruptcies      535\n",
       "address                     0\n",
       "dtype: int64"
      ]
     },
     "execution_count": 8,
     "metadata": {},
     "output_type": "execute_result"
    }
   ],
   "source": [
    "df.isnull().sum()"
   ]
  },
  {
   "cell_type": "markdown",
   "id": "6d77fc3b",
   "metadata": {},
   "source": [
    "**Cleaning 'emp_length' column**"
   ]
  },
  {
   "cell_type": "code",
   "execution_count": 9,
   "id": "fb52ed6b",
   "metadata": {},
   "outputs": [
    {
     "data": {
      "image/png": "[encoded data removed]",
      "text/plain": [
       "<Figure size 1000x600 with 1 Axes>"
      ]
     },
     "metadata": {},
     "output_type": "display_data"
    }
   ],
   "source": [
    "plt.figure(figsize=(10, 6))\n",
    "sns.histplot(df['emp_length'], kde=True, kde_kws=dict(cut=3), color='purple')\n",
    "plt.xticks(rotation=45)\n",
    "plt.show()"
   ]
  },
  {
   "cell_type": "code",
   "execution_count": 10,
   "id": "dbb2d4c4",
   "metadata": {},
   "outputs": [],
   "source": [
    "df['emp_length'].fillna(0, inplace=True)\n",
    "df['emp_length'].replace({'< 1 year': 0, '1 year': 1, '2 years': 2, '3 years': 3, '4 years': 4, '5 years': 5, \n",
    "                         '6 years': 6, '7 years': 7, '8 years': 8, '9 years': 9, '10+ years': 10}, inplace=True)"
   ]
  },
  {
   "cell_type": "markdown",
   "id": "cb6476e1",
   "metadata": {},
   "source": [
    "**Cleaning 'revol_util' column**"
   ]
  },
  {
   "cell_type": "code",
   "execution_count": 11,
   "id": "6b9d76a6",
   "metadata": {},
   "outputs": [
    {
     "data": {
      "image/png": "[encoded data removed]",
      "text/plain": [
       "<Figure size 800x600 with 2 Axes>"
      ]
     },
     "metadata": {},
     "output_type": "display_data"
    }
   ],
   "source": [
    "fig, axes = plt.subplots(1, 2, figsize=(8, 6))\n",
    "\n",
    "ax1, ax2 = axes.flatten()\n",
    "\n",
    "sns.distplot(df['revol_util'], ax=ax1)\n",
    "sns.histplot(df['revol_util'], ax=ax2, bins=50)\n",
    "\n",
    "plt.tight_layout()\n",
    "plt.show()"
   ]
  },
  {
   "cell_type": "code",
   "execution_count": 12,
   "id": "805a6ecb",
   "metadata": {},
   "outputs": [
    {
     "data": {
      "text/plain": [
       "count    395754.000000\n",
       "mean         53.791749\n",
       "std          24.452193\n",
       "min           0.000000\n",
       "25%          35.800000\n",
       "50%          54.800000\n",
       "75%          72.900000\n",
       "max         892.300000\n",
       "Name: revol_util, dtype: float64"
      ]
     },
     "execution_count": 12,
     "metadata": {},
     "output_type": "execute_result"
    }
   ],
   "source": [
    "df['revol_util'].describe()"
   ]
  },
  {
   "cell_type": "code",
   "execution_count": 13,
   "id": "a8565eae",
   "metadata": {},
   "outputs": [
    {
     "data": {
      "text/plain": [
       "137211    892.3\n",
       "329037    153.0\n",
       "82600     152.5\n",
       "65687     150.7\n",
       "350333    148.0\n",
       "          ...  \n",
       "385222      NaN\n",
       "388426      NaN\n",
       "390665      NaN\n",
       "395088      NaN\n",
       "395665      NaN\n",
       "Name: revol_util, Length: 396030, dtype: float64"
      ]
     },
     "execution_count": 13,
     "metadata": {},
     "output_type": "execute_result"
    }
   ],
   "source": [
    "df['revol_util'].sort_values(ascending=False)"
   ]
  },
  {
   "cell_type": "code",
   "execution_count": 14,
   "id": "2a1345db",
   "metadata": {},
   "outputs": [],
   "source": [
    "df = df[df['revol_util'] < df['revol_util'].max()]"
   ]
  },
  {
   "cell_type": "code",
   "execution_count": 15,
   "id": "26f42e86",
   "metadata": {},
   "outputs": [
    {
     "data": {
      "text/plain": [
       "329037    153.0\n",
       "82600     152.5\n",
       "65687     150.7\n",
       "350333    148.0\n",
       "165111    146.1\n",
       "          ...  \n",
       "237946      0.0\n",
       "362149      0.0\n",
       "104076      0.0\n",
       "337027      0.0\n",
       "178370      0.0\n",
       "Name: revol_util, Length: 395753, dtype: float64"
      ]
     },
     "execution_count": 15,
     "metadata": {},
     "output_type": "execute_result"
    }
   ],
   "source": [
    "df['revol_util'].sort_values(ascending=False)"
   ]
  },
  {
   "cell_type": "code",
   "execution_count": 16,
   "id": "ed79c8e9",
   "metadata": {},
   "outputs": [
    {
     "data": {
      "image/png": "[encoded data removed]",
      "text/plain": [
       "<Figure size 800x600 with 2 Axes>"
      ]
     },
     "metadata": {},
     "output_type": "display_data"
    }
   ],
   "source": [
    "fig, axes = plt.subplots(1, 2, figsize=(8, 6))\n",
    "\n",
    "ax1, ax2 = axes.flatten()\n",
    "\n",
    "sns.distplot(df['revol_util'], ax=ax1)\n",
    "sns.histplot(df['revol_util'], ax=ax2, bins=50)\n",
    "\n",
    "plt.tight_layout()\n",
    "plt.show()"
   ]
  },
  {
   "cell_type": "code",
   "execution_count": 17,
   "id": "ec5df2cb",
   "metadata": {},
   "outputs": [],
   "source": [
    "df['revol_util'].fillna(df['revol_util'].mean(), inplace=True)"
   ]
  },
  {
   "cell_type": "markdown",
   "id": "f17e747c",
   "metadata": {},
   "source": [
    "**Cleaning 'mort_acc' column**"
   ]
  },
  {
   "cell_type": "code",
   "execution_count": 18,
   "id": "4eed8f3d",
   "metadata": {},
   "outputs": [
    {
     "data": {
      "text/plain": [
       "array([ 0.,  3.,  1.,  4.,  2.,  6.,  5., nan, 10.,  7., 12., 11.,  8.,\n",
       "        9., 13., 14., 22., 34., 15., 25., 19., 16., 17., 32., 18., 24.,\n",
       "       21., 20., 31., 28., 30., 23., 26., 27.])"
      ]
     },
     "execution_count": 18,
     "metadata": {},
     "output_type": "execute_result"
    }
   ],
   "source": [
    "df['mort_acc'].unique()"
   ]
  },
  {
   "cell_type": "code",
   "execution_count": 19,
   "id": "e6e0f43b",
   "metadata": {},
   "outputs": [
    {
     "data": {
      "text/plain": [
       "count    358013.000000\n",
       "mean          1.813797\n",
       "std           2.147898\n",
       "min           0.000000\n",
       "25%           0.000000\n",
       "50%           1.000000\n",
       "75%           3.000000\n",
       "max          34.000000\n",
       "Name: mort_acc, dtype: float64"
      ]
     },
     "execution_count": 19,
     "metadata": {},
     "output_type": "execute_result"
    }
   ],
   "source": [
    "df['mort_acc'].describe()"
   ]
  },
  {
   "cell_type": "code",
   "execution_count": 20,
   "id": "a6963ec6",
   "metadata": {},
   "outputs": [
    {
     "data": {
      "text/plain": [
       "mort_acc\n",
       "0.0     139707\n",
       "1.0      60384\n",
       "2.0      49907\n",
       "3.0      38022\n",
       "4.0      27865\n",
       "5.0      18182\n",
       "6.0      11059\n",
       "7.0       6050\n",
       "8.0       3120\n",
       "9.0       1653\n",
       "10.0       863\n",
       "11.0       479\n",
       "12.0       264\n",
       "13.0       146\n",
       "14.0       107\n",
       "15.0        61\n",
       "16.0        37\n",
       "17.0        22\n",
       "18.0        18\n",
       "19.0        15\n",
       "20.0        13\n",
       "24.0        10\n",
       "22.0         7\n",
       "21.0         4\n",
       "25.0         4\n",
       "27.0         3\n",
       "32.0         2\n",
       "31.0         2\n",
       "23.0         2\n",
       "26.0         2\n",
       "28.0         1\n",
       "30.0         1\n",
       "34.0         1\n",
       "Name: count, dtype: int64"
      ]
     },
     "execution_count": 20,
     "metadata": {},
     "output_type": "execute_result"
    }
   ],
   "source": [
    "df['mort_acc'].value_counts()"
   ]
  },
  {
   "cell_type": "code",
   "execution_count": 21,
   "id": "86d1b9e3",
   "metadata": {},
   "outputs": [],
   "source": [
    "df['mort_acc'].fillna(0, inplace=True)"
   ]
  },
  {
   "cell_type": "markdown",
   "id": "2e1ccd5e",
   "metadata": {},
   "source": [
    "**Cleaning 'pub_rec_bankruptcies' column**"
   ]
  },
  {
   "cell_type": "code",
   "execution_count": 22,
   "id": "4eed5afb",
   "metadata": {},
   "outputs": [
    {
     "data": {
      "text/plain": [
       "array([ 0.,  1.,  2.,  3., nan,  4.,  5.,  6.,  7.,  8.])"
      ]
     },
     "execution_count": 22,
     "metadata": {},
     "output_type": "execute_result"
    }
   ],
   "source": [
    "df['pub_rec_bankruptcies'].unique()"
   ]
  },
  {
   "cell_type": "code",
   "execution_count": 23,
   "id": "d3912512",
   "metadata": {},
   "outputs": [
    {
     "data": {
      "text/plain": [
       "pub_rec_bankruptcies\n",
       "0.0    350107\n",
       "1.0     42786\n",
       "2.0      1847\n",
       "3.0       351\n",
       "4.0        82\n",
       "5.0        32\n",
       "6.0         7\n",
       "7.0         4\n",
       "8.0         2\n",
       "Name: count, dtype: int64"
      ]
     },
     "execution_count": 23,
     "metadata": {},
     "output_type": "execute_result"
    }
   ],
   "source": [
    "df['pub_rec_bankruptcies'].value_counts()"
   ]
  },
  {
   "cell_type": "code",
   "execution_count": 24,
   "id": "1ead0ccf",
   "metadata": {},
   "outputs": [
    {
     "data": {
      "text/plain": [
       "count    395218.000000\n",
       "mean          0.121723\n",
       "std           0.356274\n",
       "min           0.000000\n",
       "25%           0.000000\n",
       "50%           0.000000\n",
       "75%           0.000000\n",
       "max           8.000000\n",
       "Name: pub_rec_bankruptcies, dtype: float64"
      ]
     },
     "execution_count": 24,
     "metadata": {},
     "output_type": "execute_result"
    }
   ],
   "source": [
    "df['pub_rec_bankruptcies'].describe()"
   ]
  },
  {
   "cell_type": "code",
   "execution_count": 25,
   "id": "b4e66913",
   "metadata": {},
   "outputs": [],
   "source": [
    "df['pub_rec_bankruptcies'].fillna(0, inplace=True)"
   ]
  },
  {
   "cell_type": "markdown",
   "id": "bb9b4345",
   "metadata": {},
   "source": [
    "**Cleaning 'title' & 'emp_title' columns**"
   ]
  },
  {
   "cell_type": "code",
   "execution_count": 26,
   "id": "e2c3c583",
   "metadata": {
    "scrolled": true
   },
   "outputs": [
    {
     "data": {
      "text/plain": [
       "(48766, 172988, 393425)"
      ]
     },
     "execution_count": 26,
     "metadata": {},
     "output_type": "execute_result"
    }
   ],
   "source": [
    "df['title'].nunique(), df['emp_title'].nunique(), df['address'].nunique()"
   ]
  },
  {
   "cell_type": "markdown",
   "id": "538a4de1",
   "metadata": {},
   "source": [
    "Since these columns are of object datatype and have high number of unique values, lets drop them completely instead of encoding them."
   ]
  },
  {
   "cell_type": "code",
   "execution_count": 27,
   "id": "51fb2c16",
   "metadata": {},
   "outputs": [],
   "source": [
    "df.drop(columns=['title', 'emp_title', 'address'], inplace=True)"
   ]
  },
  {
   "cell_type": "code",
   "execution_count": 28,
   "id": "2ffe716c",
   "metadata": {},
   "outputs": [
    {
     "data": {
      "text/plain": [
       "loan_amnt               0\n",
       "term                    0\n",
       "int_rate                0\n",
       "installment             0\n",
       "grade                   0\n",
       "sub_grade               0\n",
       "emp_length              0\n",
       "home_ownership          0\n",
       "annual_inc              0\n",
       "verification_status     0\n",
       "issue_d                 0\n",
       "loan_status             0\n",
       "purpose                 0\n",
       "dti                     0\n",
       "earliest_cr_line        0\n",
       "open_acc                0\n",
       "pub_rec                 0\n",
       "revol_bal               0\n",
       "revol_util              0\n",
       "total_acc               0\n",
       "initial_list_status     0\n",
       "application_type        0\n",
       "mort_acc                0\n",
       "pub_rec_bankruptcies    0\n",
       "dtype: int64"
      ]
     },
     "execution_count": 28,
     "metadata": {},
     "output_type": "execute_result"
    }
   ],
   "source": [
    "df.isnull().sum()"
   ]
  },
  {
   "cell_type": "markdown",
   "id": "4bab121e",
   "metadata": {},
   "source": [
    "## Feature Engineering"
   ]
  },
  {
   "cell_type": "code",
   "execution_count": 29,
   "id": "aa44243a",
   "metadata": {},
   "outputs": [],
   "source": [
    "encoder = LabelEncoder()"
   ]
  },
  {
   "cell_type": "markdown",
   "id": "80a984e5",
   "metadata": {},
   "source": [
    "**Converting 'issue_d' column to datetime and assigning seperate columns for year and month**"
   ]
  },
  {
   "cell_type": "code",
   "execution_count": 30,
   "id": "ed3b1134",
   "metadata": {},
   "outputs": [],
   "source": [
    "df['issue_d'] = pd.to_datetime(df['issue_d'])\n",
    "df['issue_year'] = df['issue_d'].dt.year\n",
    "df['issue_month'] = df['issue_d'].dt.month"
   ]
  },
  {
   "cell_type": "markdown",
   "id": "7f760b39",
   "metadata": {},
   "source": [
    "**Converting 'earliest_cr_line' column to datetime and assigning seperate columns for year and month**"
   ]
  },
  {
   "cell_type": "code",
   "execution_count": 31,
   "id": "ff748d63",
   "metadata": {},
   "outputs": [],
   "source": [
    "df['earliest_cr_line'] = pd.to_datetime(df['earliest_cr_line'])\n",
    "df['earliest_cr_year'] = df['earliest_cr_line'].dt.year\n",
    "df['earliest_cr_month'] = df['earliest_cr_line'].dt.month"
   ]
  },
  {
   "cell_type": "code",
   "execution_count": 32,
   "id": "a148f27f",
   "metadata": {},
   "outputs": [],
   "source": [
    "df.drop(columns=['issue_d', 'earliest_cr_line'], inplace=True)"
   ]
  },
  {
   "cell_type": "markdown",
   "id": "67a7339e",
   "metadata": {},
   "source": [
    "**Converting 'term' column to numeric datatype**"
   ]
  },
  {
   "cell_type": "code",
   "execution_count": 33,
   "id": "9342156e",
   "metadata": {},
   "outputs": [
    {
     "data": {
      "text/plain": [
       "array([' 36 months', ' 60 months'], dtype=object)"
      ]
     },
     "execution_count": 33,
     "metadata": {},
     "output_type": "execute_result"
    }
   ],
   "source": [
    "df['term'].unique()"
   ]
  },
  {
   "cell_type": "code",
   "execution_count": 34,
   "id": "35e969b1",
   "metadata": {},
   "outputs": [],
   "source": [
    "df['term'].replace({' 36 months': 0, ' 60 months': 1}, inplace=True)"
   ]
  },
  {
   "cell_type": "markdown",
   "id": "f5637aa0",
   "metadata": {},
   "source": [
    "**Converting 'grade' column to numeric datatype**"
   ]
  },
  {
   "cell_type": "code",
   "execution_count": 35,
   "id": "3e4229c9",
   "metadata": {},
   "outputs": [],
   "source": [
    "df['grade'] = encoder.fit_transform(df['grade'])"
   ]
  },
  {
   "cell_type": "markdown",
   "id": "94df8c55",
   "metadata": {},
   "source": [
    "**Converting 'sub_grade' column to numeric datatype**"
   ]
  },
  {
   "cell_type": "code",
   "execution_count": 36,
   "id": "1f742390",
   "metadata": {},
   "outputs": [],
   "source": [
    "df['sub_grade'] = encoder.fit_transform(df['sub_grade'])"
   ]
  },
  {
   "cell_type": "markdown",
   "id": "8509eb59",
   "metadata": {},
   "source": [
    "**Converting 'home_ownership' column to numeric datatype**"
   ]
  },
  {
   "cell_type": "code",
   "execution_count": 37,
   "id": "08a261ea",
   "metadata": {},
   "outputs": [
    {
     "data": {
      "text/plain": [
       "array(['RENT', 'MORTGAGE', 'OWN', 'OTHER', 'NONE', 'ANY'], dtype=object)"
      ]
     },
     "execution_count": 37,
     "metadata": {},
     "output_type": "execute_result"
    }
   ],
   "source": [
    "df['home_ownership'].unique()"
   ]
  },
  {
   "cell_type": "code",
   "execution_count": 38,
   "id": "0adcff94",
   "metadata": {},
   "outputs": [],
   "source": [
    "df['home_ownership'] = encoder.fit_transform(df['home_ownership'])"
   ]
  },
  {
   "cell_type": "markdown",
   "id": "c0ee93be",
   "metadata": {},
   "source": [
    "**Converting 'verification_status' column to numeric datatype**"
   ]
  },
  {
   "cell_type": "code",
   "execution_count": 39,
   "id": "763d88e0",
   "metadata": {},
   "outputs": [
    {
     "data": {
      "text/plain": [
       "array(['Not Verified', 'Source Verified', 'Verified'], dtype=object)"
      ]
     },
     "execution_count": 39,
     "metadata": {},
     "output_type": "execute_result"
    }
   ],
   "source": [
    "df['verification_status'].unique()"
   ]
  },
  {
   "cell_type": "code",
   "execution_count": 40,
   "id": "1e2e3830",
   "metadata": {},
   "outputs": [],
   "source": [
    "df['verification_status'].replace({'Not Verified': 0, 'Source Verified': 1, 'Verified': 2}, inplace=True)"
   ]
  },
  {
   "cell_type": "markdown",
   "id": "827f76a0",
   "metadata": {},
   "source": [
    "**Converting 'loan_status' column to numeric datatype**"
   ]
  },
  {
   "cell_type": "code",
   "execution_count": 41,
   "id": "fb6e9699",
   "metadata": {},
   "outputs": [
    {
     "data": {
      "text/plain": [
       "array(['Fully Paid', 'Charged Off'], dtype=object)"
      ]
     },
     "execution_count": 41,
     "metadata": {},
     "output_type": "execute_result"
    }
   ],
   "source": [
    "df['loan_status'].unique()"
   ]
  },
  {
   "cell_type": "code",
   "execution_count": 42,
   "id": "e97ede46",
   "metadata": {},
   "outputs": [],
   "source": [
    "df['loan_status'].replace({'Fully Paid': 1, 'Charged Off': 0}, inplace=True)"
   ]
  },
  {
   "cell_type": "markdown",
   "id": "3105e945",
   "metadata": {},
   "source": [
    "**Converting 'purpose' column to numeric datatype**"
   ]
  },
  {
   "cell_type": "code",
   "execution_count": 43,
   "id": "d302622e",
   "metadata": {},
   "outputs": [
    {
     "data": {
      "text/plain": [
       "array(['vacation', 'debt_consolidation', 'credit_card',\n",
       "       'home_improvement', 'small_business', 'major_purchase', 'other',\n",
       "       'medical', 'wedding', 'car', 'moving', 'house', 'educational',\n",
       "       'renewable_energy'], dtype=object)"
      ]
     },
     "execution_count": 43,
     "metadata": {},
     "output_type": "execute_result"
    }
   ],
   "source": [
    "df['purpose'].unique()"
   ]
  },
  {
   "cell_type": "code",
   "execution_count": 44,
   "id": "feaa65de",
   "metadata": {},
   "outputs": [],
   "source": [
    "df['purpose'] = encoder.fit_transform(df['purpose'])"
   ]
  },
  {
   "cell_type": "markdown",
   "id": "738ab442",
   "metadata": {},
   "source": [
    "**Converting 'initial_list_status' column to numeric datatype**"
   ]
  },
  {
   "cell_type": "code",
   "execution_count": 45,
   "id": "83fe087b",
   "metadata": {},
   "outputs": [
    {
     "data": {
      "text/plain": [
       "array(['w', 'f'], dtype=object)"
      ]
     },
     "execution_count": 45,
     "metadata": {},
     "output_type": "execute_result"
    }
   ],
   "source": [
    "df['initial_list_status'].unique()"
   ]
  },
  {
   "cell_type": "code",
   "execution_count": 46,
   "id": "b379ce2a",
   "metadata": {},
   "outputs": [],
   "source": [
    "df['initial_list_status'] = encoder.fit_transform(df['initial_list_status'])"
   ]
  },
  {
   "cell_type": "markdown",
   "id": "33303366",
   "metadata": {},
   "source": [
    "**Converting 'application_type' column to numeric datatype**"
   ]
  },
  {
   "cell_type": "code",
   "execution_count": 47,
   "id": "496ae10b",
   "metadata": {},
   "outputs": [
    {
     "data": {
      "text/plain": [
       "array(['INDIVIDUAL', 'JOINT', 'DIRECT_PAY'], dtype=object)"
      ]
     },
     "execution_count": 47,
     "metadata": {},
     "output_type": "execute_result"
    }
   ],
   "source": [
    "df['application_type'].unique()"
   ]
  },
  {
   "cell_type": "code",
   "execution_count": 48,
   "id": "7571581a",
   "metadata": {},
   "outputs": [],
   "source": [
    "df['application_type'] = encoder.fit_transform(df['application_type'])"
   ]
  },
  {
   "cell_type": "code",
   "execution_count": 49,
   "id": "5ec203ca",
   "metadata": {},
   "outputs": [
    {
     "data": {
      "text/html": [
       "<div>\n",
       "<style scoped>\n",
       "    .dataframe tbody tr th:only-of-type {\n",
       "        vertical-align: middle;\n",
       "    }\n",
       "\n",
       "    .dataframe tbody tr th {\n",
       "        vertical-align: top;\n",
       "    }\n",
       "\n",
       "    .dataframe thead th {\n",
       "        text-align: right;\n",
       "    }\n",
       "</style>\n",
       "<table border=\"1\" class=\"dataframe\">\n",
       "  <thead>\n",
       "    <tr style=\"text-align: right;\">\n",
       "      <th></th>\n",
       "      <th>loan_amnt</th>\n",
       "      <th>term</th>\n",
       "      <th>int_rate</th>\n",
       "      <th>installment</th>\n",
       "      <th>grade</th>\n",
       "      <th>sub_grade</th>\n",
       "      <th>emp_length</th>\n",
       "      <th>home_ownership</th>\n",
       "      <th>annual_inc</th>\n",
       "      <th>verification_status</th>\n",
       "      <th>...</th>\n",
       "      <th>revol_util</th>\n",
       "      <th>total_acc</th>\n",
       "      <th>initial_list_status</th>\n",
       "      <th>application_type</th>\n",
       "      <th>mort_acc</th>\n",
       "      <th>pub_rec_bankruptcies</th>\n",
       "      <th>issue_year</th>\n",
       "      <th>issue_month</th>\n",
       "      <th>earliest_cr_year</th>\n",
       "      <th>earliest_cr_month</th>\n",
       "    </tr>\n",
       "  </thead>\n",
       "  <tbody>\n",
       "    <tr>\n",
       "      <th>count</th>\n",
       "      <td>395753.000000</td>\n",
       "      <td>395753.000000</td>\n",
       "      <td>395753.000000</td>\n",
       "      <td>395753.000000</td>\n",
       "      <td>395753.000000</td>\n",
       "      <td>395753.000000</td>\n",
       "      <td>395753.000000</td>\n",
       "      <td>395753.000000</td>\n",
       "      <td>3.957530e+05</td>\n",
       "      <td>395753.000000</td>\n",
       "      <td>...</td>\n",
       "      <td>395753.000000</td>\n",
       "      <td>395753.000000</td>\n",
       "      <td>395753.000000</td>\n",
       "      <td>395753.000000</td>\n",
       "      <td>395753.000000</td>\n",
       "      <td>395753.000000</td>\n",
       "      <td>395753.000000</td>\n",
       "      <td>395753.000000</td>\n",
       "      <td>395753.000000</td>\n",
       "      <td>395753.000000</td>\n",
       "    </tr>\n",
       "    <tr>\n",
       "      <th>mean</th>\n",
       "      <td>14116.167534</td>\n",
       "      <td>0.237451</td>\n",
       "      <td>13.637966</td>\n",
       "      <td>431.911746</td>\n",
       "      <td>1.821828</td>\n",
       "      <td>11.080980</td>\n",
       "      <td>5.664326</td>\n",
       "      <td>2.900413</td>\n",
       "      <td>7.419437e+04</td>\n",
       "      <td>1.036513</td>\n",
       "      <td>...</td>\n",
       "      <td>53.789630</td>\n",
       "      <td>25.418509</td>\n",
       "      <td>0.398918</td>\n",
       "      <td>1.000351</td>\n",
       "      <td>1.640829</td>\n",
       "      <td>0.121558</td>\n",
       "      <td>2013.629410</td>\n",
       "      <td>6.553239</td>\n",
       "      <td>1997.857815</td>\n",
       "      <td>6.755979</td>\n",
       "    </tr>\n",
       "    <tr>\n",
       "      <th>std</th>\n",
       "      <td>8356.236098</td>\n",
       "      <td>0.425522</td>\n",
       "      <td>4.472024</td>\n",
       "      <td>250.687117</td>\n",
       "      <td>1.333651</td>\n",
       "      <td>6.600124</td>\n",
       "      <td>3.772353</td>\n",
       "      <td>1.924290</td>\n",
       "      <td>6.162365e+04</td>\n",
       "      <td>0.816635</td>\n",
       "      <td>...</td>\n",
       "      <td>24.415869</td>\n",
       "      <td>11.886759</td>\n",
       "      <td>0.489676</td>\n",
       "      <td>0.042385</td>\n",
       "      <td>2.111238</td>\n",
       "      <td>0.356061</td>\n",
       "      <td>1.481307</td>\n",
       "      <td>3.426650</td>\n",
       "      <td>7.199223</td>\n",
       "      <td>3.435031</td>\n",
       "    </tr>\n",
       "    <tr>\n",
       "      <th>min</th>\n",
       "      <td>500.000000</td>\n",
       "      <td>0.000000</td>\n",
       "      <td>5.320000</td>\n",
       "      <td>16.080000</td>\n",
       "      <td>0.000000</td>\n",
       "      <td>0.000000</td>\n",
       "      <td>0.000000</td>\n",
       "      <td>0.000000</td>\n",
       "      <td>0.000000e+00</td>\n",
       "      <td>0.000000</td>\n",
       "      <td>...</td>\n",
       "      <td>0.000000</td>\n",
       "      <td>2.000000</td>\n",
       "      <td>0.000000</td>\n",
       "      <td>0.000000</td>\n",
       "      <td>0.000000</td>\n",
       "      <td>0.000000</td>\n",
       "      <td>2007.000000</td>\n",
       "      <td>1.000000</td>\n",
       "      <td>1944.000000</td>\n",
       "      <td>1.000000</td>\n",
       "    </tr>\n",
       "    <tr>\n",
       "      <th>25%</th>\n",
       "      <td>8000.000000</td>\n",
       "      <td>0.000000</td>\n",
       "      <td>10.490000</td>\n",
       "      <td>250.330000</td>\n",
       "      <td>1.000000</td>\n",
       "      <td>6.000000</td>\n",
       "      <td>2.000000</td>\n",
       "      <td>1.000000</td>\n",
       "      <td>4.500000e+04</td>\n",
       "      <td>0.000000</td>\n",
       "      <td>...</td>\n",
       "      <td>35.800000</td>\n",
       "      <td>17.000000</td>\n",
       "      <td>0.000000</td>\n",
       "      <td>1.000000</td>\n",
       "      <td>0.000000</td>\n",
       "      <td>0.000000</td>\n",
       "      <td>2013.000000</td>\n",
       "      <td>4.000000</td>\n",
       "      <td>1994.000000</td>\n",
       "      <td>4.000000</td>\n",
       "    </tr>\n",
       "    <tr>\n",
       "      <th>50%</th>\n",
       "      <td>12000.000000</td>\n",
       "      <td>0.000000</td>\n",
       "      <td>13.330000</td>\n",
       "      <td>375.430000</td>\n",
       "      <td>2.000000</td>\n",
       "      <td>10.000000</td>\n",
       "      <td>6.000000</td>\n",
       "      <td>1.000000</td>\n",
       "      <td>6.400000e+04</td>\n",
       "      <td>1.000000</td>\n",
       "      <td>...</td>\n",
       "      <td>54.800000</td>\n",
       "      <td>24.000000</td>\n",
       "      <td>0.000000</td>\n",
       "      <td>1.000000</td>\n",
       "      <td>1.000000</td>\n",
       "      <td>0.000000</td>\n",
       "      <td>2014.000000</td>\n",
       "      <td>7.000000</td>\n",
       "      <td>1999.000000</td>\n",
       "      <td>7.000000</td>\n",
       "    </tr>\n",
       "    <tr>\n",
       "      <th>75%</th>\n",
       "      <td>20000.000000</td>\n",
       "      <td>0.000000</td>\n",
       "      <td>16.490000</td>\n",
       "      <td>567.460000</td>\n",
       "      <td>3.000000</td>\n",
       "      <td>15.000000</td>\n",
       "      <td>10.000000</td>\n",
       "      <td>5.000000</td>\n",
       "      <td>9.000000e+04</td>\n",
       "      <td>2.000000</td>\n",
       "      <td>...</td>\n",
       "      <td>72.900000</td>\n",
       "      <td>32.000000</td>\n",
       "      <td>1.000000</td>\n",
       "      <td>1.000000</td>\n",
       "      <td>3.000000</td>\n",
       "      <td>0.000000</td>\n",
       "      <td>2015.000000</td>\n",
       "      <td>10.000000</td>\n",
       "      <td>2003.000000</td>\n",
       "      <td>10.000000</td>\n",
       "    </tr>\n",
       "    <tr>\n",
       "      <th>max</th>\n",
       "      <td>40000.000000</td>\n",
       "      <td>1.000000</td>\n",
       "      <td>30.990000</td>\n",
       "      <td>1533.810000</td>\n",
       "      <td>6.000000</td>\n",
       "      <td>34.000000</td>\n",
       "      <td>10.000000</td>\n",
       "      <td>5.000000</td>\n",
       "      <td>8.706582e+06</td>\n",
       "      <td>2.000000</td>\n",
       "      <td>...</td>\n",
       "      <td>153.000000</td>\n",
       "      <td>151.000000</td>\n",
       "      <td>1.000000</td>\n",
       "      <td>2.000000</td>\n",
       "      <td>34.000000</td>\n",
       "      <td>8.000000</td>\n",
       "      <td>2016.000000</td>\n",
       "      <td>12.000000</td>\n",
       "      <td>2013.000000</td>\n",
       "      <td>12.000000</td>\n",
       "    </tr>\n",
       "  </tbody>\n",
       "</table>\n",
       "<p>8 rows × 26 columns</p>\n",
       "</div>"
      ],
      "text/plain": [
       "           loan_amnt           term       int_rate    installment          grade      sub_grade     emp_length  home_ownership    annual_inc  verification_status  ...     revol_util      total_acc  initial_list_status  application_type       mort_acc  pub_rec_bankruptcies     issue_year    issue_month  earliest_cr_year  earliest_cr_month\n",
       "count  395753.000000  395753.000000  395753.000000  395753.000000  395753.000000  395753.000000  395753.000000   395753.000000  3.957530e+05        395753.000000  ...  395753.000000  395753.000000        395753.000000     395753.000000  395753.000000         395753.000000  395753.000000  395753.000000     395753.000000      395753.000000\n",
       "mean    14116.167534       0.237451      13.637966     431.911746       1.821828      11.080980       5.664326        2.900413  7.419437e+04             1.036513  ...      53.789630      25.418509             0.398918          1.000351       1.640829              0.121558    2013.629410       6.553239       1997.857815           6.755979\n",
       "std      8356.236098       0.425522       4.472024     250.687117       1.333651       6.600124       3.772353        1.924290  6.162365e+04             0.816635  ...      24.415869      11.886759             0.489676          0.042385       2.111238              0.356061       1.481307       3.426650          7.199223           3.435031\n",
       "min       500.000000       0.000000       5.320000      16.080000       0.000000       0.000000       0.000000        0.000000  0.000000e+00             0.000000  ...       0.000000       2.000000             0.000000          0.000000       0.000000              0.000000    2007.000000       1.000000       1944.000000           1.000000\n",
       "25%      8000.000000       0.000000      10.490000     250.330000       1.000000       6.000000       2.000000        1.000000  4.500000e+04             0.000000  ...      35.800000      17.000000             0.000000          1.000000       0.000000              0.000000    2013.000000       4.000000       1994.000000           4.000000\n",
       "50%     12000.000000       0.000000      13.330000     375.430000       2.000000      10.000000       6.000000        1.000000  6.400000e+04             1.000000  ...      54.800000      24.000000             0.000000          1.000000       1.000000              0.000000    2014.000000       7.000000       1999.000000           7.000000\n",
       "75%     20000.000000       0.000000      16.490000     567.460000       3.000000      15.000000      10.000000        5.000000  9.000000e+04             2.000000  ...      72.900000      32.000000             1.000000          1.000000       3.000000              0.000000    2015.000000      10.000000       2003.000000          10.000000\n",
       "max     40000.000000       1.000000      30.990000    1533.810000       6.000000      34.000000      10.000000        5.000000  8.706582e+06             2.000000  ...     153.000000     151.000000             1.000000          2.000000      34.000000              8.000000    2016.000000      12.000000       2013.000000          12.000000\n",
       "\n",
       "[8 rows x 26 columns]"
      ]
     },
     "execution_count": 49,
     "metadata": {},
     "output_type": "execute_result"
    }
   ],
   "source": [
    "df.describe()"
   ]
  },
  {
   "cell_type": "code",
   "execution_count": 50,
   "id": "c4d920ed",
   "metadata": {},
   "outputs": [
    {
     "data": {
      "text/plain": [
       "loan_amnt               float64\n",
       "term                      int64\n",
       "int_rate                float64\n",
       "installment             float64\n",
       "grade                     int32\n",
       "sub_grade                 int32\n",
       "emp_length                int64\n",
       "home_ownership            int32\n",
       "annual_inc              float64\n",
       "verification_status       int64\n",
       "loan_status               int64\n",
       "purpose                   int32\n",
       "dti                     float64\n",
       "open_acc                float64\n",
       "pub_rec                 float64\n",
       "revol_bal               float64\n",
       "revol_util              float64\n",
       "total_acc               float64\n",
       "initial_list_status       int32\n",
       "application_type          int32\n",
       "mort_acc                float64\n",
       "pub_rec_bankruptcies    float64\n",
       "issue_year                int32\n",
       "issue_month               int32\n",
       "earliest_cr_year          int32\n",
       "earliest_cr_month         int32\n",
       "dtype: object"
      ]
     },
     "execution_count": 50,
     "metadata": {},
     "output_type": "execute_result"
    }
   ],
   "source": [
    "df.dtypes"
   ]
  },
  {
   "cell_type": "code",
   "execution_count": 56,
   "id": "86d06539",
   "metadata": {},
   "outputs": [
    {
     "data": {
      "image/png": "[encoded data removed]",
      "text/plain": [
       "<Figure size 1000x500 with 1 Axes>"
      ]
     },
     "metadata": {},
     "output_type": "display_data"
    }
   ],
   "source": [
    "plt.figure(figsize=(10,5),dpi=100)\n",
    "df.corr()['loan_status'].sort_values().plot(kind='bar')\n",
    "plt.show()"
   ]
  },
  {
   "cell_type": "markdown",
   "id": "d802b9bb",
   "metadata": {},
   "source": [
    "## Model Training"
   ]
  },
  {
   "cell_type": "code",
   "execution_count": 51,
   "id": "745a779b",
   "metadata": {},
   "outputs": [],
   "source": [
    "X = df.drop('loan_status', axis=1).values\n",
    "y = df['loan_status'].values"
   ]
  },
  {
   "cell_type": "code",
   "execution_count": 52,
   "id": "d3e9b749",
   "metadata": {},
   "outputs": [
    {
     "data": {
      "text/plain": [
       "(395753, 26)"
      ]
     },
     "execution_count": 52,
     "metadata": {},
     "output_type": "execute_result"
    }
   ],
   "source": [
    "df.shape"
   ]
  },
  {
   "cell_type": "code",
   "execution_count": 53,
   "id": "5798d0f9",
   "metadata": {},
   "outputs": [],
   "source": [
    "X_train, X_test, y_train, y_test = train_test_split(X, y, test_size=0.33, random_state=11)"
   ]
  },
  {
   "cell_type": "markdown",
   "id": "87feb998",
   "metadata": {},
   "source": [
    "#### Scaling the features"
   ]
  },
  {
   "cell_type": "code",
   "execution_count": 54,
   "id": "41d606c4",
   "metadata": {},
   "outputs": [],
   "source": [
    "scaler = MinMaxScaler()"
   ]
  },
  {
   "cell_type": "code",
   "execution_count": 55,
   "id": "1c34c785",
   "metadata": {},
   "outputs": [],
   "source": [
    "X_train = scaler.fit_transform(X_train)\n",
    "X_test = scaler.transform(X_test)"
   ]
  },
  {
   "cell_type": "code",
   "execution_count": 68,
   "id": "79c49500",
   "metadata": {},
   "outputs": [],
   "source": [
    "model = Sequential()\n",
    "\n",
    "model.add(Dense(units=78, activation='relu'))\n",
    "model.add(Dropout(rate=0.2))\n",
    "\n",
    "model.add(Dense(units=39, activation='relu'))\n",
    "model.add(Dropout(rate=0.2))\n",
    "\n",
    "model.add(Dense(units=19, activation='relu'))\n",
    "model.add(Dropout(rate=0.2))\n",
    "\n",
    "model.add(Dense(units=1, activation='sigmoid'))\n",
    "\n",
    "model.compile(loss='binary_crossentropy', optimizer='adam')"
   ]
  },
  {
   "cell_type": "code",
   "execution_count": 69,
   "id": "78dc6cbe",
   "metadata": {},
   "outputs": [],
   "source": [
    "early_stop = EarlyStopping(monitor='val_loss', mode='min', patience=5, verbose=True)"
   ]
  },
  {
   "cell_type": "code",
   "execution_count": 71,
   "id": "d7897ad8",
   "metadata": {},
   "outputs": [
    {
     "name": "stdout",
     "output_type": "stream",
     "text": [
      "Epoch 1/100\n",
      "1036/1036 [==============================] - 5s 5ms/step - loss: 0.4453 - val_loss: 0.4456\n",
      "Epoch 2/100\n",
      "1036/1036 [==============================] - 5s 4ms/step - loss: 0.4452 - val_loss: 0.4453\n",
      "Epoch 3/100\n",
      "1036/1036 [==============================] - 5s 5ms/step - loss: 0.4451 - val_loss: 0.4451\n",
      "Epoch 4/100\n",
      "1036/1036 [==============================] - 5s 4ms/step - loss: 0.4451 - val_loss: 0.4454\n",
      "Epoch 5/100\n",
      "1036/1036 [==============================] - 5s 4ms/step - loss: 0.4451 - val_loss: 0.4454\n",
      "Epoch 6/100\n",
      "1036/1036 [==============================] - 5s 4ms/step - loss: 0.4448 - val_loss: 0.4452\n",
      "Epoch 7/100\n",
      "1036/1036 [==============================] - 5s 5ms/step - loss: 0.4444 - val_loss: 0.4452\n",
      "Epoch 8/100\n",
      "1036/1036 [==============================] - 5s 4ms/step - loss: 0.4450 - val_loss: 0.4455\n",
      "Epoch 9/100\n",
      "1036/1036 [==============================] - 5s 4ms/step - loss: 0.4440 - val_loss: 0.4456\n",
      "Epoch 10/100\n",
      "1036/1036 [==============================] - 5s 4ms/step - loss: 0.4443 - val_loss: 0.4448\n",
      "Epoch 11/100\n",
      "1036/1036 [==============================] - 5s 4ms/step - loss: 0.4441 - val_loss: 0.4451\n",
      "Epoch 12/100\n",
      "1036/1036 [==============================] - 5s 4ms/step - loss: 0.4442 - val_loss: 0.4446\n",
      "Epoch 13/100\n",
      "1036/1036 [==============================] - 5s 4ms/step - loss: 0.4444 - val_loss: 0.4448\n",
      "Epoch 14/100\n",
      "1036/1036 [==============================] - 5s 4ms/step - loss: 0.4440 - val_loss: 0.4448\n",
      "Epoch 15/100\n",
      "1036/1036 [==============================] - 5s 4ms/step - loss: 0.4439 - val_loss: 0.4450\n",
      "Epoch 16/100\n",
      "1036/1036 [==============================] - 5s 4ms/step - loss: 0.4443 - val_loss: 0.4448\n",
      "Epoch 17/100\n",
      "1036/1036 [==============================] - 5s 4ms/step - loss: 0.4439 - val_loss: 0.4449\n",
      "Epoch 18/100\n",
      "1036/1036 [==============================] - 5s 4ms/step - loss: 0.4437 - val_loss: 0.4449\n",
      "Epoch 19/100\n",
      "1036/1036 [==============================] - 5s 4ms/step - loss: 0.4438 - val_loss: 0.4468\n",
      "Epoch 20/100\n",
      "1036/1036 [==============================] - 5s 4ms/step - loss: 0.4439 - val_loss: 0.4445\n",
      "Epoch 21/100\n",
      "1036/1036 [==============================] - 5s 4ms/step - loss: 0.4435 - val_loss: 0.4442\n",
      "Epoch 22/100\n",
      "1036/1036 [==============================] - 5s 4ms/step - loss: 0.4436 - val_loss: 0.4460\n",
      "Epoch 23/100\n",
      "1036/1036 [==============================] - 5s 4ms/step - loss: 0.4433 - val_loss: 0.4444\n",
      "Epoch 24/100\n",
      "1036/1036 [==============================] - 5s 4ms/step - loss: 0.4433 - val_loss: 0.4444\n",
      "Epoch 25/100\n",
      "1036/1036 [==============================] - 5s 4ms/step - loss: 0.4436 - val_loss: 0.4446\n",
      "Epoch 26/100\n",
      "1036/1036 [==============================] - 5s 5ms/step - loss: 0.4435 - val_loss: 0.4444\n",
      "Epoch 27/100\n",
      "1036/1036 [==============================] - 5s 5ms/step - loss: 0.4435 - val_loss: 0.4443\n",
      "Epoch 28/100\n",
      "1036/1036 [==============================] - 5s 5ms/step - loss: 0.4432 - val_loss: 0.4447\n",
      "Epoch 29/100\n",
      "1036/1036 [==============================] - 5s 5ms/step - loss: 0.4431 - val_loss: 0.4445\n",
      "Epoch 30/100\n",
      "1036/1036 [==============================] - 5s 5ms/step - loss: 0.4430 - val_loss: 0.4438\n",
      "Epoch 31/100\n",
      "1036/1036 [==============================] - 5s 5ms/step - loss: 0.4429 - val_loss: 0.4439\n",
      "Epoch 32/100\n",
      "1036/1036 [==============================] - 5s 5ms/step - loss: 0.4432 - val_loss: 0.4466\n",
      "Epoch 33/100\n",
      "1036/1036 [==============================] - 5s 5ms/step - loss: 0.4430 - val_loss: 0.4441\n",
      "Epoch 34/100\n",
      "1036/1036 [==============================] - 5s 5ms/step - loss: 0.4431 - val_loss: 0.4446\n",
      "Epoch 35/100\n",
      "1036/1036 [==============================] - 5s 5ms/step - loss: 0.4428 - val_loss: 0.4438\n",
      "Epoch 36/100\n",
      "1036/1036 [==============================] - 5s 5ms/step - loss: 0.4430 - val_loss: 0.4440\n",
      "Epoch 37/100\n",
      "1036/1036 [==============================] - 5s 5ms/step - loss: 0.4428 - val_loss: 0.4443\n",
      "Epoch 38/100\n",
      "1036/1036 [==============================] - 5s 5ms/step - loss: 0.4426 - val_loss: 0.4446\n",
      "Epoch 39/100\n",
      "1036/1036 [==============================] - 5s 5ms/step - loss: 0.4428 - val_loss: 0.4443\n",
      "Epoch 40/100\n",
      "1036/1036 [==============================] - 5s 5ms/step - loss: 0.4426 - val_loss: 0.4440\n",
      "Epoch 41/100\n",
      "1036/1036 [==============================] - 5s 5ms/step - loss: 0.4426 - val_loss: 0.4439\n",
      "Epoch 42/100\n",
      "1036/1036 [==============================] - 5s 5ms/step - loss: 0.4425 - val_loss: 0.4440\n",
      "Epoch 43/100\n",
      "1036/1036 [==============================] - 5s 5ms/step - loss: 0.4426 - val_loss: 0.4439\n",
      "Epoch 44/100\n",
      "1036/1036 [==============================] - 5s 5ms/step - loss: 0.4429 - val_loss: 0.4439\n",
      "Epoch 45/100\n",
      "1036/1036 [==============================] - 5s 5ms/step - loss: 0.4424 - val_loss: 0.4442\n",
      "Epoch 46/100\n",
      "1036/1036 [==============================] - 5s 5ms/step - loss: 0.4428 - val_loss: 0.4436\n",
      "Epoch 47/100\n",
      "1036/1036 [==============================] - 5s 5ms/step - loss: 0.4425 - val_loss: 0.4444\n",
      "Epoch 48/100\n",
      "1036/1036 [==============================] - 5s 5ms/step - loss: 0.4423 - val_loss: 0.4437\n",
      "Epoch 49/100\n",
      "1036/1036 [==============================] - 5s 5ms/step - loss: 0.4424 - val_loss: 0.4439\n",
      "Epoch 50/100\n",
      "1036/1036 [==============================] - 5s 5ms/step - loss: 0.4425 - val_loss: 0.4438\n",
      "Epoch 51/100\n",
      "1036/1036 [==============================] - 5s 5ms/step - loss: 0.4426 - val_loss: 0.4435\n",
      "Epoch 52/100\n",
      "1036/1036 [==============================] - 5s 5ms/step - loss: 0.4422 - val_loss: 0.4435\n",
      "Epoch 53/100\n",
      "1036/1036 [==============================] - 5s 5ms/step - loss: 0.4423 - val_loss: 0.4440\n",
      "Epoch 54/100\n",
      "1036/1036 [==============================] - 5s 5ms/step - loss: 0.4420 - val_loss: 0.4436\n",
      "Epoch 55/100\n",
      "1036/1036 [==============================] - 5s 5ms/step - loss: 0.4423 - val_loss: 0.4437\n",
      "Epoch 56/100\n",
      "1036/1036 [==============================] - 5s 5ms/step - loss: 0.4421 - val_loss: 0.4439\n",
      "Epoch 57/100\n",
      "1036/1036 [==============================] - 5s 5ms/step - loss: 0.4421 - val_loss: 0.4445\n",
      "Epoch 58/100\n",
      "1036/1036 [==============================] - 5s 5ms/step - loss: 0.4423 - val_loss: 0.4438\n",
      "Epoch 59/100\n",
      "1036/1036 [==============================] - 5s 5ms/step - loss: 0.4422 - val_loss: 0.4434\n",
      "Epoch 60/100\n",
      "1036/1036 [==============================] - 5s 5ms/step - loss: 0.4422 - val_loss: 0.4441\n",
      "Epoch 61/100\n",
      "1036/1036 [==============================] - 5s 5ms/step - loss: 0.4420 - val_loss: 0.4442\n",
      "Epoch 62/100\n",
      "1036/1036 [==============================] - 5s 5ms/step - loss: 0.4420 - val_loss: 0.4438\n",
      "Epoch 63/100\n",
      "1036/1036 [==============================] - 5s 5ms/step - loss: 0.4421 - val_loss: 0.4440\n",
      "Epoch 64/100\n",
      "1036/1036 [==============================] - 5s 5ms/step - loss: 0.4421 - val_loss: 0.4434\n",
      "Epoch 65/100\n",
      "1036/1036 [==============================] - 5s 5ms/step - loss: 0.4420 - val_loss: 0.4433\n",
      "Epoch 66/100\n",
      "1036/1036 [==============================] - 5s 5ms/step - loss: 0.4417 - val_loss: 0.4441\n",
      "Epoch 67/100\n",
      "1036/1036 [==============================] - 5s 5ms/step - loss: 0.4418 - val_loss: 0.4437\n",
      "Epoch 68/100\n",
      "1036/1036 [==============================] - 5s 5ms/step - loss: 0.4420 - val_loss: 0.4435\n",
      "Epoch 69/100\n",
      "1036/1036 [==============================] - 5s 5ms/step - loss: 0.4416 - val_loss: 0.4436\n",
      "Epoch 70/100\n",
      "1036/1036 [==============================] - 5s 5ms/step - loss: 0.4417 - val_loss: 0.4445\n",
      "Epoch 71/100\n",
      "1036/1036 [==============================] - 5s 5ms/step - loss: 0.4419 - val_loss: 0.4433\n",
      "Epoch 72/100\n",
      "1036/1036 [==============================] - 5s 5ms/step - loss: 0.4419 - val_loss: 0.4444\n",
      "Epoch 73/100\n",
      "1036/1036 [==============================] - 5s 5ms/step - loss: 0.4418 - val_loss: 0.4433\n",
      "Epoch 74/100\n",
      "1036/1036 [==============================] - 5s 5ms/step - loss: 0.4417 - val_loss: 0.4435\n",
      "Epoch 75/100\n",
      "1036/1036 [==============================] - 5s 5ms/step - loss: 0.4414 - val_loss: 0.4445\n",
      "Epoch 76/100\n",
      "1036/1036 [==============================] - 5s 5ms/step - loss: 0.4415 - val_loss: 0.4439\n",
      "Epoch 77/100\n",
      "1036/1036 [==============================] - 5s 5ms/step - loss: 0.4414 - val_loss: 0.4437\n",
      "Epoch 78/100\n",
      "1036/1036 [==============================] - 5s 5ms/step - loss: 0.4409 - val_loss: 0.4435\n",
      "Epoch 79/100\n",
      "1036/1036 [==============================] - 5s 5ms/step - loss: 0.4418 - val_loss: 0.4439\n"
     ]
    },
    {
     "name": "stdout",
     "output_type": "stream",
     "text": [
      "Epoch 80/100\n",
      "1036/1036 [==============================] - 5s 5ms/step - loss: 0.4410 - val_loss: 0.4444\n",
      "Epoch 81/100\n",
      "1036/1036 [==============================] - 5s 4ms/step - loss: 0.4417 - val_loss: 0.4436\n",
      "Epoch 82/100\n",
      "1036/1036 [==============================] - 5s 5ms/step - loss: 0.4411 - val_loss: 0.4436\n",
      "Epoch 83/100\n",
      "1036/1036 [==============================] - 5s 5ms/step - loss: 0.4411 - val_loss: 0.4432\n",
      "Epoch 84/100\n",
      "1036/1036 [==============================] - 5s 4ms/step - loss: 0.4419 - val_loss: 0.4434\n",
      "Epoch 85/100\n",
      "1036/1036 [==============================] - 5s 4ms/step - loss: 0.4412 - val_loss: 0.4444\n",
      "Epoch 86/100\n",
      "1036/1036 [==============================] - 5s 4ms/step - loss: 0.4412 - val_loss: 0.4432\n",
      "Epoch 87/100\n",
      "1036/1036 [==============================] - 5s 4ms/step - loss: 0.4411 - val_loss: 0.4434\n",
      "Epoch 88/100\n",
      "1036/1036 [==============================] - 5s 4ms/step - loss: 0.4410 - val_loss: 0.4444\n",
      "Epoch 89/100\n",
      "1036/1036 [==============================] - 5s 4ms/step - loss: 0.4414 - val_loss: 0.4435\n",
      "Epoch 90/100\n",
      "1036/1036 [==============================] - 5s 5ms/step - loss: 0.4413 - val_loss: 0.4431\n",
      "Epoch 91/100\n",
      "1036/1036 [==============================] - 5s 5ms/step - loss: 0.4415 - val_loss: 0.4434\n",
      "Epoch 92/100\n",
      "1036/1036 [==============================] - 5s 5ms/step - loss: 0.4411 - val_loss: 0.4438\n",
      "Epoch 93/100\n",
      "1036/1036 [==============================] - 5s 5ms/step - loss: 0.4414 - val_loss: 0.4429\n",
      "Epoch 94/100\n",
      "1036/1036 [==============================] - 5s 5ms/step - loss: 0.4410 - val_loss: 0.4431\n",
      "Epoch 95/100\n",
      "1036/1036 [==============================] - 5s 5ms/step - loss: 0.4414 - val_loss: 0.4438\n",
      "Epoch 96/100\n",
      "1036/1036 [==============================] - 5s 5ms/step - loss: 0.4408 - val_loss: 0.4434\n",
      "Epoch 97/100\n",
      "1036/1036 [==============================] - 5s 5ms/step - loss: 0.4412 - val_loss: 0.4445\n",
      "Epoch 98/100\n",
      "1036/1036 [==============================] - 5s 5ms/step - loss: 0.4417 - val_loss: 0.4436\n",
      "Epoch 99/100\n",
      "1036/1036 [==============================] - 5s 5ms/step - loss: 0.4410 - val_loss: 0.4436\n",
      "Epoch 100/100\n",
      "1036/1036 [==============================] - 5s 5ms/step - loss: 0.4408 - val_loss: 0.4427\n"
     ]
    },
    {
     "data": {
      "text/plain": [
       "<keras.callbacks.History at 0x25f41ad0250>"
      ]
     },
     "execution_count": 71,
     "metadata": {},
     "output_type": "execute_result"
    }
   ],
   "source": [
    "model.fit(x=X_train, y=y_train, epochs=100, batch_size=256, validation_data=(X_test, y_test))"
   ]
  },
  {
   "cell_type": "markdown",
   "id": "36b66bdc",
   "metadata": {},
   "source": [
    "## Evaluation"
   ]
  },
  {
   "cell_type": "code",
   "execution_count": 74,
   "id": "96d2e208",
   "metadata": {},
   "outputs": [
    {
     "data": {
      "text/html": [
       "<div>\n",
       "<style scoped>\n",
       "    .dataframe tbody tr th:only-of-type {\n",
       "        vertical-align: middle;\n",
       "    }\n",
       "\n",
       "    .dataframe tbody tr th {\n",
       "        vertical-align: top;\n",
       "    }\n",
       "\n",
       "    .dataframe thead th {\n",
       "        text-align: right;\n",
       "    }\n",
       "</style>\n",
       "<table border=\"1\" class=\"dataframe\">\n",
       "  <thead>\n",
       "    <tr style=\"text-align: right;\">\n",
       "      <th></th>\n",
       "      <th>loss</th>\n",
       "      <th>val_loss</th>\n",
       "    </tr>\n",
       "  </thead>\n",
       "  <tbody>\n",
       "    <tr>\n",
       "      <th>0</th>\n",
       "      <td>0.445273</td>\n",
       "      <td>0.445629</td>\n",
       "    </tr>\n",
       "    <tr>\n",
       "      <th>1</th>\n",
       "      <td>0.445183</td>\n",
       "      <td>0.445268</td>\n",
       "    </tr>\n",
       "    <tr>\n",
       "      <th>2</th>\n",
       "      <td>0.445055</td>\n",
       "      <td>0.445064</td>\n",
       "    </tr>\n",
       "    <tr>\n",
       "      <th>3</th>\n",
       "      <td>0.445116</td>\n",
       "      <td>0.445446</td>\n",
       "    </tr>\n",
       "    <tr>\n",
       "      <th>4</th>\n",
       "      <td>0.445126</td>\n",
       "      <td>0.445359</td>\n",
       "    </tr>\n",
       "  </tbody>\n",
       "</table>\n",
       "</div>"
      ],
      "text/plain": [
       "       loss  val_loss\n",
       "0  0.445273  0.445629\n",
       "1  0.445183  0.445268\n",
       "2  0.445055  0.445064\n",
       "3  0.445116  0.445446\n",
       "4  0.445126  0.445359"
      ]
     },
     "execution_count": 74,
     "metadata": {},
     "output_type": "execute_result"
    }
   ],
   "source": [
    "losses = pd.DataFrame(model.history.history)\n",
    "losses.head()"
   ]
  },
  {
   "cell_type": "code",
   "execution_count": 75,
   "id": "830f1f56",
   "metadata": {},
   "outputs": [
    {
     "data": {
      "text/plain": [
       "<Axes: >"
      ]
     },
     "execution_count": 75,
     "metadata": {},
     "output_type": "execute_result"
    },
    {
     "data": {
      "image/png": "[encoded data removed]",
      "text/plain": [
       "<Figure size 640x480 with 1 Axes>"
      ]
     },
     "metadata": {},
     "output_type": "display_data"
    }
   ],
   "source": [
    "losses.plot()"
   ]
  },
  {
   "cell_type": "code",
   "execution_count": 77,
   "id": "a5498868",
   "metadata": {},
   "outputs": [
    {
     "name": "stdout",
     "output_type": "stream",
     "text": [
      "4082/4082 [==============================] - 5s 1ms/step\n"
     ]
    }
   ],
   "source": [
    "predictions = (model.predict(X_test) > 0.5).astype(\"int32\")"
   ]
  },
  {
   "cell_type": "code",
   "execution_count": 79,
   "id": "a47291a2",
   "metadata": {},
   "outputs": [
    {
     "name": "stdout",
     "output_type": "stream",
     "text": [
      "              precision    recall  f1-score   support\n",
      "\n",
      "           0       0.56      0.09      0.15     25716\n",
      "           1       0.81      0.98      0.89    104883\n",
      "\n",
      "    accuracy                           0.81    130599\n",
      "   macro avg       0.69      0.53      0.52    130599\n",
      "weighted avg       0.77      0.81      0.74    130599\n",
      "\n"
     ]
    }
   ],
   "source": [
    "print(classification_report(y_test, predictions))"
   ]
  },
  {
   "cell_type": "code",
   "execution_count": 80,
   "id": "a5a7d688",
   "metadata": {},
   "outputs": [
    {
     "name": "stdout",
     "output_type": "stream",
     "text": [
      "[[  2198  23518]\n",
      " [  1699 103184]]\n"
     ]
    }
   ],
   "source": [
    "print(confusion_matrix(y_test, predictions))"
   ]
  },
  {
   "cell_type": "code",
   "execution_count": 83,
   "id": "eff28188",
   "metadata": {},
   "outputs": [
    {
     "data": {
      "text/plain": [
       "0.8038928321453027"
      ]
     },
     "execution_count": 83,
     "metadata": {},
     "output_type": "execute_result"
    }
   ],
   "source": [
    "len(df[df['loan_status'] == 1]) / len(df)"
   ]
  },
  {
   "cell_type": "markdown",
   "id": "c0b857a5",
   "metadata": {},
   "source": [
    "The model accuracy score is 81% and if we take a random guess, the chances of it being correct is 80%.  \n",
    "We might as well take a guess instead of relying on this model.  "
   ]
  }
 ],
 "metadata": {
  "kernelspec": {
   "display_name": "Python 3 (ipykernel)",
   "language": "python",
   "name": "python3"
  },
  "language_info": {
   "codemirror_mode": {
    "name": "ipython",
    "version": 3
   },
   "file_extension": ".py",
   "mimetype": "text/x-python",
   "name": "python",
   "nbconvert_exporter": "python",
   "pygments_lexer": "ipython3",
   "version": "3.11.3"
  }
 },
 "nbformat": 4,
 "nbformat_minor": 5
}
