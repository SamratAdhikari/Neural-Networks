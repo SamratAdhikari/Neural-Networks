{
 "cells": [
  {
   "cell_type": "markdown",
   "id": "bbaace57",
   "metadata": {},
   "source": [
    "# <center>SOCR Height & Weight Dataset Analysis</center>"
   ]
  },
  {
   "cell_type": "markdown",
   "id": "5ae682a2",
   "metadata": {},
   "source": [
    "## Modules"
   ]
  },
  {
   "cell_type": "code",
   "execution_count": 94,
   "id": "fb68b976",
   "metadata": {},
   "outputs": [],
   "source": [
    "import numpy as np\n",
    "import pandas as pd\n",
    "import matplotlib.pyplot as plt\n",
    "import seaborn as sns\n",
    "\n",
    "from sklearn.model_selection import train_test_split\n",
    "from sklearn.linear_model import LinearRegression, Ridge, Lasso, ElasticNet\n",
    "from sklearn.ensemble import RandomForestRegressor\n",
    "from sklearn.metrics import mean_squared_error, r2_score\n",
    "from sklearn.preprocessing import MinMaxScaler\n",
    "\n",
    "from tensorflow.keras import Sequential\n",
    "from tensorflow.keras.layers import Dense, Dropout\n",
    "from tensorflow.keras.callbacks import EarlyStopping\n",
    "\n",
    "import warnings\n",
    "warnings.filterwarnings('ignore')"
   ]
  },
  {
   "cell_type": "markdown",
   "id": "cdf50b4e",
   "metadata": {},
   "source": [
    "## Initialize the dataframe"
   ]
  },
  {
   "cell_type": "code",
   "execution_count": 15,
   "id": "6c029d91",
   "metadata": {},
   "outputs": [
    {
     "data": {
      "text/html": [
       "<div>\n",
       "<style scoped>\n",
       "    .dataframe tbody tr th:only-of-type {\n",
       "        vertical-align: middle;\n",
       "    }\n",
       "\n",
       "    .dataframe tbody tr th {\n",
       "        vertical-align: top;\n",
       "    }\n",
       "\n",
       "    .dataframe thead th {\n",
       "        text-align: right;\n",
       "    }\n",
       "</style>\n",
       "<table border=\"1\" class=\"dataframe\">\n",
       "  <thead>\n",
       "    <tr style=\"text-align: right;\">\n",
       "      <th></th>\n",
       "      <th>Unnamed: 0</th>\n",
       "      <th>Unnamed: 1</th>\n",
       "      <th>Unnamed: 2</th>\n",
       "      <th>Unnamed: 3</th>\n",
       "      <th>Unnamed: 4</th>\n",
       "      <th>Unnamed: 5</th>\n",
       "      <th>Unnamed: 6</th>\n",
       "    </tr>\n",
       "  </thead>\n",
       "  <tbody>\n",
       "    <tr>\n",
       "      <th>0</th>\n",
       "      <td>NaN</td>\n",
       "      <td>NaN</td>\n",
       "      <td>NaN</td>\n",
       "      <td>NaN</td>\n",
       "      <td>NaN</td>\n",
       "      <td>NaN</td>\n",
       "      <td>NaN</td>\n",
       "    </tr>\n",
       "    <tr>\n",
       "      <th>1</th>\n",
       "      <td>NaN</td>\n",
       "      <td>NaN</td>\n",
       "      <td>NaN</td>\n",
       "      <td>NaN</td>\n",
       "      <td>NaN</td>\n",
       "      <td>NaN</td>\n",
       "      <td>NaN</td>\n",
       "    </tr>\n",
       "    <tr>\n",
       "      <th>2</th>\n",
       "      <td>NaN</td>\n",
       "      <td>NaN</td>\n",
       "      <td>NaN</td>\n",
       "      <td>NaN</td>\n",
       "      <td>NaN</td>\n",
       "      <td>NaN</td>\n",
       "      <td>NaN</td>\n",
       "    </tr>\n",
       "    <tr>\n",
       "      <th>3</th>\n",
       "      <td>NaN</td>\n",
       "      <td>NaN</td>\n",
       "      <td>NaN</td>\n",
       "      <td>NaN</td>\n",
       "      <td>Index</td>\n",
       "      <td>Height(Inches)</td>\n",
       "      <td>Weight(Pounds)</td>\n",
       "    </tr>\n",
       "    <tr>\n",
       "      <th>4</th>\n",
       "      <td>NaN</td>\n",
       "      <td>NaN</td>\n",
       "      <td>NaN</td>\n",
       "      <td>NaN</td>\n",
       "      <td>1</td>\n",
       "      <td>65.78331</td>\n",
       "      <td>112.9925</td>\n",
       "    </tr>\n",
       "  </tbody>\n",
       "</table>\n",
       "</div>"
      ],
      "text/plain": [
       "   Unnamed: 0  Unnamed: 1  Unnamed: 2  Unnamed: 3 Unnamed: 4      Unnamed: 5   \n",
       "0         NaN         NaN         NaN         NaN        NaN             NaN  \\\n",
       "1         NaN         NaN         NaN         NaN        NaN             NaN   \n",
       "2         NaN         NaN         NaN         NaN        NaN             NaN   \n",
       "3         NaN         NaN         NaN         NaN      Index  Height(Inches)   \n",
       "4         NaN         NaN         NaN         NaN          1        65.78331   \n",
       "\n",
       "       Unnamed: 6  \n",
       "0             NaN  \n",
       "1             NaN  \n",
       "2             NaN  \n",
       "3  Weight(Pounds)  \n",
       "4        112.9925  "
      ]
     },
     "execution_count": 15,
     "metadata": {},
     "output_type": "execute_result"
    }
   ],
   "source": [
    "df = pd.read_excel('SOCR-height-weight.xlsx')\n",
    "df.head()"
   ]
  },
  {
   "cell_type": "markdown",
   "id": "c792011d",
   "metadata": {},
   "source": [
    "## Data Wrangling"
   ]
  },
  {
   "cell_type": "code",
   "execution_count": 16,
   "id": "e5659dfe",
   "metadata": {},
   "outputs": [
    {
     "data": {
      "text/html": [
       "<div>\n",
       "<style scoped>\n",
       "    .dataframe tbody tr th:only-of-type {\n",
       "        vertical-align: middle;\n",
       "    }\n",
       "\n",
       "    .dataframe tbody tr th {\n",
       "        vertical-align: top;\n",
       "    }\n",
       "\n",
       "    .dataframe thead th {\n",
       "        text-align: right;\n",
       "    }\n",
       "</style>\n",
       "<table border=\"1\" class=\"dataframe\">\n",
       "  <thead>\n",
       "    <tr style=\"text-align: right;\">\n",
       "      <th>3</th>\n",
       "      <th>Height(Inches)</th>\n",
       "      <th>Weight(Pounds)</th>\n",
       "    </tr>\n",
       "  </thead>\n",
       "  <tbody>\n",
       "    <tr>\n",
       "      <th>0</th>\n",
       "      <td>65.78331</td>\n",
       "      <td>112.9925</td>\n",
       "    </tr>\n",
       "    <tr>\n",
       "      <th>1</th>\n",
       "      <td>71.51521</td>\n",
       "      <td>136.4873</td>\n",
       "    </tr>\n",
       "    <tr>\n",
       "      <th>2</th>\n",
       "      <td>69.39874</td>\n",
       "      <td>153.0269</td>\n",
       "    </tr>\n",
       "    <tr>\n",
       "      <th>3</th>\n",
       "      <td>68.2166</td>\n",
       "      <td>142.3354</td>\n",
       "    </tr>\n",
       "    <tr>\n",
       "      <th>4</th>\n",
       "      <td>67.78781</td>\n",
       "      <td>144.2971</td>\n",
       "    </tr>\n",
       "  </tbody>\n",
       "</table>\n",
       "</div>"
      ],
      "text/plain": [
       "3 Height(Inches) Weight(Pounds)\n",
       "0       65.78331       112.9925\n",
       "1       71.51521       136.4873\n",
       "2       69.39874       153.0269\n",
       "3        68.2166       142.3354\n",
       "4       67.78781       144.2971"
      ]
     },
     "execution_count": 16,
     "metadata": {},
     "output_type": "execute_result"
    }
   ],
   "source": [
    "# removing unnecessary rows and columns\n",
    "df = df.iloc[3:, 5:]\n",
    "\n",
    "# setting the first row as the column headers\n",
    "df.columns = df.iloc[0]\n",
    "df = df[1:].reset_index(drop=True)\n",
    "\n",
    "df.head()"
   ]
  },
  {
   "cell_type": "code",
   "execution_count": 17,
   "id": "3ffdab7a",
   "metadata": {},
   "outputs": [
    {
     "data": {
      "text/plain": [
       "(25000, 2)"
      ]
     },
     "execution_count": 17,
     "metadata": {},
     "output_type": "execute_result"
    }
   ],
   "source": [
    "df.shape"
   ]
  },
  {
   "cell_type": "code",
   "execution_count": 18,
   "id": "86e98545",
   "metadata": {},
   "outputs": [
    {
     "data": {
      "text/html": [
       "<div>\n",
       "<style scoped>\n",
       "    .dataframe tbody tr th:only-of-type {\n",
       "        vertical-align: middle;\n",
       "    }\n",
       "\n",
       "    .dataframe tbody tr th {\n",
       "        vertical-align: top;\n",
       "    }\n",
       "\n",
       "    .dataframe thead th {\n",
       "        text-align: right;\n",
       "    }\n",
       "</style>\n",
       "<table border=\"1\" class=\"dataframe\">\n",
       "  <thead>\n",
       "    <tr style=\"text-align: right;\">\n",
       "      <th>3</th>\n",
       "      <th>Height(Inches)</th>\n",
       "      <th>Weight(Pounds)</th>\n",
       "    </tr>\n",
       "  </thead>\n",
       "  <tbody>\n",
       "    <tr>\n",
       "      <th>count</th>\n",
       "      <td>25000.00000</td>\n",
       "      <td>25000.0000</td>\n",
       "    </tr>\n",
       "    <tr>\n",
       "      <th>unique</th>\n",
       "      <td>24503.00000</td>\n",
       "      <td>24248.0000</td>\n",
       "    </tr>\n",
       "    <tr>\n",
       "      <th>top</th>\n",
       "      <td>65.65796</td>\n",
       "      <td>124.7975</td>\n",
       "    </tr>\n",
       "    <tr>\n",
       "      <th>freq</th>\n",
       "      <td>3.00000</td>\n",
       "      <td>4.0000</td>\n",
       "    </tr>\n",
       "  </tbody>\n",
       "</table>\n",
       "</div>"
      ],
      "text/plain": [
       "3       Height(Inches)  Weight(Pounds)\n",
       "count      25000.00000      25000.0000\n",
       "unique     24503.00000      24248.0000\n",
       "top           65.65796        124.7975\n",
       "freq           3.00000          4.0000"
      ]
     },
     "execution_count": 18,
     "metadata": {},
     "output_type": "execute_result"
    }
   ],
   "source": [
    "df.describe()"
   ]
  },
  {
   "cell_type": "code",
   "execution_count": 20,
   "id": "f06c5451",
   "metadata": {},
   "outputs": [
    {
     "data": {
      "text/plain": [
       "3\n",
       "Height(Inches)    object\n",
       "Weight(Pounds)    object\n",
       "dtype: object"
      ]
     },
     "execution_count": 20,
     "metadata": {},
     "output_type": "execute_result"
    }
   ],
   "source": [
    "df.dtypes"
   ]
  },
  {
   "cell_type": "code",
   "execution_count": 21,
   "id": "874c8673",
   "metadata": {},
   "outputs": [],
   "source": [
    "# converting the columns to numeric datatype\n",
    "df = df.astype('int')"
   ]
  },
  {
   "cell_type": "code",
   "execution_count": 22,
   "id": "b6a49156",
   "metadata": {
    "scrolled": true
   },
   "outputs": [
    {
     "data": {
      "text/html": [
       "<div>\n",
       "<style scoped>\n",
       "    .dataframe tbody tr th:only-of-type {\n",
       "        vertical-align: middle;\n",
       "    }\n",
       "\n",
       "    .dataframe tbody tr th {\n",
       "        vertical-align: top;\n",
       "    }\n",
       "\n",
       "    .dataframe thead th {\n",
       "        text-align: right;\n",
       "    }\n",
       "</style>\n",
       "<table border=\"1\" class=\"dataframe\">\n",
       "  <thead>\n",
       "    <tr style=\"text-align: right;\">\n",
       "      <th>3</th>\n",
       "      <th>Height(Inches)</th>\n",
       "      <th>Weight(Pounds)</th>\n",
       "    </tr>\n",
       "  </thead>\n",
       "  <tbody>\n",
       "    <tr>\n",
       "      <th>count</th>\n",
       "      <td>25000.000000</td>\n",
       "      <td>25000.000000</td>\n",
       "    </tr>\n",
       "    <tr>\n",
       "      <th>mean</th>\n",
       "      <td>67.493240</td>\n",
       "      <td>126.578320</td>\n",
       "    </tr>\n",
       "    <tr>\n",
       "      <th>std</th>\n",
       "      <td>1.923731</td>\n",
       "      <td>11.659936</td>\n",
       "    </tr>\n",
       "    <tr>\n",
       "      <th>min</th>\n",
       "      <td>60.000000</td>\n",
       "      <td>78.000000</td>\n",
       "    </tr>\n",
       "    <tr>\n",
       "      <th>25%</th>\n",
       "      <td>66.000000</td>\n",
       "      <td>119.000000</td>\n",
       "    </tr>\n",
       "    <tr>\n",
       "      <th>50%</th>\n",
       "      <td>67.000000</td>\n",
       "      <td>127.000000</td>\n",
       "    </tr>\n",
       "    <tr>\n",
       "      <th>75%</th>\n",
       "      <td>69.000000</td>\n",
       "      <td>134.000000</td>\n",
       "    </tr>\n",
       "    <tr>\n",
       "      <th>max</th>\n",
       "      <td>75.000000</td>\n",
       "      <td>170.000000</td>\n",
       "    </tr>\n",
       "  </tbody>\n",
       "</table>\n",
       "</div>"
      ],
      "text/plain": [
       "3      Height(Inches)  Weight(Pounds)\n",
       "count    25000.000000    25000.000000\n",
       "mean        67.493240      126.578320\n",
       "std          1.923731       11.659936\n",
       "min         60.000000       78.000000\n",
       "25%         66.000000      119.000000\n",
       "50%         67.000000      127.000000\n",
       "75%         69.000000      134.000000\n",
       "max         75.000000      170.000000"
      ]
     },
     "execution_count": 22,
     "metadata": {},
     "output_type": "execute_result"
    }
   ],
   "source": [
    "df.describe()"
   ]
  },
  {
   "cell_type": "code",
   "execution_count": 30,
   "id": "9b7da8eb",
   "metadata": {},
   "outputs": [
    {
     "data": {
      "text/plain": [
       "3\n",
       "Height(Inches)    int32\n",
       "Weight(Pounds)    int32\n",
       "dtype: object"
      ]
     },
     "execution_count": 30,
     "metadata": {},
     "output_type": "execute_result"
    }
   ],
   "source": [
    "df.dtypes"
   ]
  },
  {
   "cell_type": "markdown",
   "id": "5b4e253c",
   "metadata": {},
   "source": [
    "The data is normally distributed."
   ]
  },
  {
   "cell_type": "markdown",
   "id": "988ac41c",
   "metadata": {},
   "source": [
    "## EDA"
   ]
  },
  {
   "cell_type": "code",
   "execution_count": 34,
   "id": "b9a4bd20",
   "metadata": {},
   "outputs": [
    {
     "data": {
      "image/png": "[encoded data removed]",
      "text/plain": [
       "<Figure size 1000x600 with 2 Axes>"
      ]
     },
     "metadata": {},
     "output_type": "display_data"
    }
   ],
   "source": [
    "fig, axes = plt.subplots(nrows=1, ncols=2, figsize=(10, 6))\n",
    "axes = axes.flatten()\n",
    "\n",
    "for index, feature in enumerate(df.columns):\n",
    "    ax = axes[index]\n",
    "    sns.distplot(a=df[feature], color='purple', ax=ax, bins='auto')\n",
    "    ax.set_title(f'{feature} Distribution')\n",
    "\n",
    "plt.tight_layout()\n",
    "plt.show()"
   ]
  },
  {
   "cell_type": "code",
   "execution_count": 48,
   "id": "16978b8c",
   "metadata": {},
   "outputs": [
    {
     "data": {
      "image/png": "[encoded data removed]",
      "text/plain": [
       "<Figure size 640x480 with 1 Axes>"
      ]
     },
     "metadata": {},
     "output_type": "display_data"
    }
   ],
   "source": [
    "sns.regplot(data=df, x='Height(Inches)', y='Weight(Pounds)', line_kws={'color':'black'}, scatter_kws={'color':'grey'})\n",
    "plt.show()"
   ]
  },
  {
   "cell_type": "code",
   "execution_count": 49,
   "id": "9e3bb699",
   "metadata": {},
   "outputs": [
    {
     "data": {
      "text/plain": [
       "<Axes: xlabel='3', ylabel='3'>"
      ]
     },
     "execution_count": 49,
     "metadata": {},
     "output_type": "execute_result"
    },
    {
     "data": {
      "image/png": "[encoded data removed]",
      "text/plain": [
       "<Figure size 640x480 with 2 Axes>"
      ]
     },
     "metadata": {},
     "output_type": "display_data"
    }
   ],
   "source": [
    "sns.heatmap(df.corr(), annot=True)"
   ]
  },
  {
   "cell_type": "markdown",
   "id": "5a5cfc21",
   "metadata": {},
   "source": [
    "## Model Training - Artificial Neural Networks"
   ]
  },
  {
   "cell_type": "code",
   "execution_count": 84,
   "id": "49a30c48",
   "metadata": {},
   "outputs": [],
   "source": [
    "X = df['Height(Inches)'].values\n",
    "y = df['Weight(Pounds)'].values"
   ]
  },
  {
   "cell_type": "code",
   "execution_count": 85,
   "id": "e4543724",
   "metadata": {
    "scrolled": true
   },
   "outputs": [
    {
     "data": {
      "text/plain": [
       "((16750,), (8250,), (16750,), (8250,))"
      ]
     },
     "execution_count": 85,
     "metadata": {},
     "output_type": "execute_result"
    }
   ],
   "source": [
    "X_train, X_test, y_train, y_test = train_test_split(X, y, test_size=0.33, random_state=77)\n",
    "X_train.shape, X_test.shape, y_train.shape, y_test.shape"
   ]
  },
  {
   "cell_type": "code",
   "execution_count": 86,
   "id": "e15c24b4",
   "metadata": {},
   "outputs": [],
   "source": [
    "scaler = MinMaxScaler()\n",
    "\n",
    "X_train = scaler.fit_transform(X_train.reshape(-1, 1))\n",
    "X_test = scaler.transform(X_test.reshape(-1, 1))"
   ]
  },
  {
   "cell_type": "code",
   "execution_count": 72,
   "id": "9dc5f3a9",
   "metadata": {},
   "outputs": [],
   "source": [
    "model = Sequential()\n",
    "\n",
    "model.add(Dense(units=16, activation='relu'))\n",
    "model.add(Dropout(rate=0.2))\n",
    "\n",
    "model.add(Dense(units=8, activation='relu'))\n",
    "model.add(Dropout(rate=0.2))\n",
    "\n",
    "model.add(Dense(units=4, activation='relu'))\n",
    "model.add(Dropout(rate=0.2))\n",
    "\n",
    "model.add(Dense(units=2, activation='relu'))\n",
    "model.add(Dropout(rate=0.2))\n",
    "\n",
    "model.add(Dense(units=1, activation='linear'))\n",
    "\n",
    "model.compile(loss='mean_squared_error', optimizer='adam')"
   ]
  },
  {
   "cell_type": "code",
   "execution_count": 75,
   "id": "6eeb22cb",
   "metadata": {},
   "outputs": [],
   "source": [
    "early_stop = EarlyStopping(monitor='val_loss', mode='min', patience=5, verbose=True)"
   ]
  },
  {
   "cell_type": "code",
   "execution_count": 76,
   "id": "810e197a",
   "metadata": {
    "scrolled": true
   },
   "outputs": [
    {
     "name": "stdout",
     "output_type": "stream",
     "text": [
      "Epoch 1/100\n",
      "524/524 [==============================] - 1s 3ms/step - loss: 1824.5209 - val_loss: 381.3512\n",
      "Epoch 2/100\n",
      "524/524 [==============================] - 2s 3ms/step - loss: 1786.5645 - val_loss: 356.3309\n",
      "Epoch 3/100\n",
      "524/524 [==============================] - 1s 3ms/step - loss: 1773.1356 - val_loss: 351.2822\n",
      "Epoch 4/100\n",
      "524/524 [==============================] - 1s 3ms/step - loss: 1701.0073 - val_loss: 409.1396\n",
      "Epoch 5/100\n",
      "524/524 [==============================] - 1s 3ms/step - loss: 1639.2721 - val_loss: 321.0787\n",
      "Epoch 6/100\n",
      "524/524 [==============================] - 1s 3ms/step - loss: 1633.4688 - val_loss: 311.0458\n",
      "Epoch 7/100\n",
      "524/524 [==============================] - 1s 3ms/step - loss: 1656.0902 - val_loss: 312.7047\n",
      "Epoch 8/100\n",
      "524/524 [==============================] - 1s 3ms/step - loss: 1590.7057 - val_loss: 302.2269\n",
      "Epoch 9/100\n",
      "524/524 [==============================] - 2s 3ms/step - loss: 1588.2666 - val_loss: 307.0430\n",
      "Epoch 10/100\n",
      "524/524 [==============================] - 1s 3ms/step - loss: 1604.0708 - val_loss: 289.7595\n",
      "Epoch 11/100\n",
      "524/524 [==============================] - 2s 3ms/step - loss: 1564.6267 - val_loss: 293.5482\n",
      "Epoch 12/100\n",
      "524/524 [==============================] - 1s 3ms/step - loss: 1497.8041 - val_loss: 314.5687\n",
      "Epoch 13/100\n",
      "524/524 [==============================] - 1s 3ms/step - loss: 1529.0634 - val_loss: 293.9065\n",
      "Epoch 14/100\n",
      "524/524 [==============================] - 2s 3ms/step - loss: 1524.2773 - val_loss: 290.0750\n",
      "Epoch 15/100\n",
      "524/524 [==============================] - 2s 3ms/step - loss: 1524.2861 - val_loss: 273.8528\n",
      "Epoch 16/100\n",
      "524/524 [==============================] - 2s 3ms/step - loss: 1467.4678 - val_loss: 256.8595\n",
      "Epoch 17/100\n",
      "524/524 [==============================] - 2s 3ms/step - loss: 1460.8466 - val_loss: 262.1521\n",
      "Epoch 18/100\n",
      "524/524 [==============================] - 1s 3ms/step - loss: 1472.0435 - val_loss: 258.4269\n",
      "Epoch 19/100\n",
      "524/524 [==============================] - 2s 4ms/step - loss: 1442.0095 - val_loss: 256.7848\n",
      "Epoch 20/100\n",
      "524/524 [==============================] - 2s 3ms/step - loss: 1410.6661 - val_loss: 271.4307\n",
      "Epoch 21/100\n",
      "524/524 [==============================] - 2s 3ms/step - loss: 1398.8516 - val_loss: 267.9615\n",
      "Epoch 22/100\n",
      "524/524 [==============================] - 1s 3ms/step - loss: 1402.7323 - val_loss: 243.1977\n",
      "Epoch 23/100\n",
      "524/524 [==============================] - 2s 3ms/step - loss: 1398.1184 - val_loss: 239.7738\n",
      "Epoch 24/100\n",
      "524/524 [==============================] - 1s 3ms/step - loss: 1405.9813 - val_loss: 248.3066\n",
      "Epoch 25/100\n",
      "524/524 [==============================] - 1s 3ms/step - loss: 1346.8790 - val_loss: 263.2170\n",
      "Epoch 26/100\n",
      "524/524 [==============================] - 1s 3ms/step - loss: 1344.9635 - val_loss: 226.9970\n",
      "Epoch 27/100\n",
      "524/524 [==============================] - 2s 3ms/step - loss: 1356.3951 - val_loss: 244.4948\n",
      "Epoch 28/100\n",
      "524/524 [==============================] - 2s 3ms/step - loss: 1320.2722 - val_loss: 252.1064\n",
      "Epoch 29/100\n",
      "524/524 [==============================] - 1s 3ms/step - loss: 1306.8416 - val_loss: 253.7153\n",
      "Epoch 30/100\n",
      "524/524 [==============================] - 2s 4ms/step - loss: 1313.1293 - val_loss: 232.3675\n",
      "Epoch 31/100\n",
      "524/524 [==============================] - 2s 3ms/step - loss: 1279.8597 - val_loss: 232.3517\n",
      "Epoch 32/100\n",
      "524/524 [==============================] - 2s 3ms/step - loss: 1259.8246 - val_loss: 257.0205\n",
      "Epoch 33/100\n",
      "524/524 [==============================] - 2s 3ms/step - loss: 1273.7430 - val_loss: 244.4321\n",
      "Epoch 34/100\n",
      "524/524 [==============================] - 2s 3ms/step - loss: 1274.5544 - val_loss: 251.8177\n",
      "Epoch 35/100\n",
      "524/524 [==============================] - 2s 3ms/step - loss: 1280.8972 - val_loss: 244.9876\n",
      "Epoch 36/100\n",
      "524/524 [==============================] - 2s 3ms/step - loss: 1226.3130 - val_loss: 232.0264\n",
      "Epoch 37/100\n",
      "524/524 [==============================] - 2s 3ms/step - loss: 1251.8281 - val_loss: 241.6716\n",
      "Epoch 38/100\n",
      "524/524 [==============================] - 2s 3ms/step - loss: 1241.5985 - val_loss: 237.9688\n",
      "Epoch 39/100\n",
      "524/524 [==============================] - 2s 3ms/step - loss: 1219.2781 - val_loss: 214.8395\n",
      "Epoch 40/100\n",
      "524/524 [==============================] - 1s 3ms/step - loss: 1210.4741 - val_loss: 233.2339\n",
      "Epoch 41/100\n",
      "524/524 [==============================] - 1s 3ms/step - loss: 1201.3209 - val_loss: 242.4016\n",
      "Epoch 42/100\n",
      "524/524 [==============================] - 1s 3ms/step - loss: 1201.6075 - val_loss: 215.8397\n",
      "Epoch 43/100\n",
      "524/524 [==============================] - 1s 3ms/step - loss: 1178.9791 - val_loss: 219.7745\n",
      "Epoch 44/100\n",
      "524/524 [==============================] - 2s 3ms/step - loss: 1166.7352 - val_loss: 240.4739\n",
      "Epoch 45/100\n",
      "524/524 [==============================] - 1s 3ms/step - loss: 1156.2002 - val_loss: 223.5105\n",
      "Epoch 46/100\n",
      "524/524 [==============================] - 1s 3ms/step - loss: 1139.7284 - val_loss: 233.4213\n",
      "Epoch 47/100\n",
      "524/524 [==============================] - 1s 3ms/step - loss: 1175.6912 - val_loss: 223.2204\n",
      "Epoch 48/100\n",
      "524/524 [==============================] - 2s 3ms/step - loss: 1154.6375 - val_loss: 229.2539\n",
      "Epoch 49/100\n",
      "524/524 [==============================] - 1s 3ms/step - loss: 1098.1906 - val_loss: 235.6486\n",
      "Epoch 50/100\n",
      "524/524 [==============================] - 2s 3ms/step - loss: 1095.2487 - val_loss: 213.7089\n",
      "Epoch 51/100\n",
      "524/524 [==============================] - 2s 3ms/step - loss: 1082.2216 - val_loss: 241.1027\n",
      "Epoch 52/100\n",
      "524/524 [==============================] - 2s 3ms/step - loss: 1072.3794 - val_loss: 220.4160\n",
      "Epoch 53/100\n",
      "524/524 [==============================] - 2s 3ms/step - loss: 1065.0880 - val_loss: 216.8588\n",
      "Epoch 54/100\n",
      "524/524 [==============================] - 2s 4ms/step - loss: 1078.7697 - val_loss: 229.7189\n",
      "Epoch 55/100\n",
      "524/524 [==============================] - 2s 3ms/step - loss: 1062.5106 - val_loss: 223.7522\n",
      "Epoch 56/100\n",
      "524/524 [==============================] - 1s 3ms/step - loss: 1064.7788 - val_loss: 210.7145\n",
      "Epoch 57/100\n",
      "524/524 [==============================] - 1s 3ms/step - loss: 1041.0388 - val_loss: 218.5680\n",
      "Epoch 58/100\n",
      "524/524 [==============================] - 2s 3ms/step - loss: 1048.8977 - val_loss: 206.3428\n",
      "Epoch 59/100\n",
      "524/524 [==============================] - 2s 3ms/step - loss: 1010.5369 - val_loss: 218.4225\n",
      "Epoch 60/100\n",
      "524/524 [==============================] - 1s 3ms/step - loss: 1026.5283 - val_loss: 211.3430\n",
      "Epoch 61/100\n",
      "524/524 [==============================] - 2s 3ms/step - loss: 1010.6761 - val_loss: 207.2932\n",
      "Epoch 62/100\n",
      "524/524 [==============================] - 1s 3ms/step - loss: 977.3716 - val_loss: 207.6431\n",
      "Epoch 63/100\n",
      "524/524 [==============================] - 1s 3ms/step - loss: 989.5905 - val_loss: 206.9773\n",
      "Epoch 64/100\n",
      "524/524 [==============================] - 1s 3ms/step - loss: 979.1840 - val_loss: 215.4555\n",
      "Epoch 65/100\n",
      "524/524 [==============================] - 1s 3ms/step - loss: 971.3463 - val_loss: 202.0148\n",
      "Epoch 66/100\n",
      "524/524 [==============================] - 2s 3ms/step - loss: 939.1315 - val_loss: 197.7729\n",
      "Epoch 67/100\n",
      "524/524 [==============================] - 2s 3ms/step - loss: 956.7670 - val_loss: 221.1959\n",
      "Epoch 68/100\n",
      "524/524 [==============================] - 2s 3ms/step - loss: 948.7572 - val_loss: 208.3036\n",
      "Epoch 69/100\n",
      "524/524 [==============================] - 2s 3ms/step - loss: 945.6867 - val_loss: 185.8075\n",
      "Epoch 70/100\n",
      "524/524 [==============================] - 2s 4ms/step - loss: 933.1349 - val_loss: 199.1269\n",
      "Epoch 71/100\n",
      "524/524 [==============================] - 2s 3ms/step - loss: 923.9136 - val_loss: 201.6662\n",
      "Epoch 72/100\n",
      "524/524 [==============================] - 2s 3ms/step - loss: 903.7584 - val_loss: 206.3981\n",
      "Epoch 73/100\n",
      "524/524 [==============================] - 2s 3ms/step - loss: 887.1746 - val_loss: 210.9502\n",
      "Epoch 74/100\n",
      "524/524 [==============================] - 1s 3ms/step - loss: 885.2030 - val_loss: 194.0790\n",
      "Epoch 75/100\n",
      "524/524 [==============================] - 2s 3ms/step - loss: 895.0403 - val_loss: 192.4369\n",
      "Epoch 76/100\n",
      "524/524 [==============================] - 2s 3ms/step - loss: 885.9606 - val_loss: 178.0832\n",
      "Epoch 77/100\n",
      "524/524 [==============================] - 2s 3ms/step - loss: 854.2332 - val_loss: 188.2571\n"
     ]
    },
    {
     "name": "stdout",
     "output_type": "stream",
     "text": [
      "Epoch 78/100\n",
      "524/524 [==============================] - 2s 3ms/step - loss: 867.7474 - val_loss: 191.6834\n",
      "Epoch 79/100\n",
      "524/524 [==============================] - 2s 3ms/step - loss: 844.1984 - val_loss: 187.6941\n",
      "Epoch 80/100\n",
      "524/524 [==============================] - 2s 3ms/step - loss: 857.9633 - val_loss: 196.2992\n",
      "Epoch 81/100\n",
      "524/524 [==============================] - 2s 3ms/step - loss: 842.6186 - val_loss: 187.3379\n",
      "Epoch 82/100\n",
      "524/524 [==============================] - 2s 3ms/step - loss: 812.8774 - val_loss: 182.1425\n",
      "Epoch 83/100\n",
      "524/524 [==============================] - 1s 3ms/step - loss: 832.0500 - val_loss: 196.4830\n",
      "Epoch 84/100\n",
      "524/524 [==============================] - 2s 3ms/step - loss: 797.7036 - val_loss: 182.7471\n",
      "Epoch 85/100\n",
      "524/524 [==============================] - 2s 3ms/step - loss: 791.3660 - val_loss: 185.2167\n",
      "Epoch 86/100\n",
      "524/524 [==============================] - 2s 3ms/step - loss: 782.8386 - val_loss: 183.6816\n",
      "Epoch 87/100\n",
      "524/524 [==============================] - 1s 3ms/step - loss: 785.3286 - val_loss: 192.9107\n",
      "Epoch 88/100\n",
      "524/524 [==============================] - 2s 3ms/step - loss: 776.7033 - val_loss: 177.8852\n",
      "Epoch 89/100\n",
      "524/524 [==============================] - 2s 3ms/step - loss: 768.9146 - val_loss: 180.2968\n",
      "Epoch 90/100\n",
      "524/524 [==============================] - 2s 3ms/step - loss: 759.4684 - val_loss: 187.3537\n",
      "Epoch 91/100\n",
      "524/524 [==============================] - 1s 3ms/step - loss: 748.5820 - val_loss: 187.8677\n",
      "Epoch 92/100\n",
      "524/524 [==============================] - 2s 3ms/step - loss: 744.1726 - val_loss: 177.4808\n",
      "Epoch 93/100\n",
      "524/524 [==============================] - 2s 4ms/step - loss: 752.4858 - val_loss: 176.8410\n",
      "Epoch 94/100\n",
      "524/524 [==============================] - 2s 4ms/step - loss: 729.8770 - val_loss: 180.1151\n",
      "Epoch 95/100\n",
      "524/524 [==============================] - 2s 4ms/step - loss: 734.6447 - val_loss: 171.7343\n",
      "Epoch 96/100\n",
      "524/524 [==============================] - 2s 4ms/step - loss: 719.9362 - val_loss: 172.7993\n",
      "Epoch 97/100\n",
      "524/524 [==============================] - 2s 3ms/step - loss: 695.2956 - val_loss: 179.1303\n",
      "Epoch 98/100\n",
      "524/524 [==============================] - 2s 3ms/step - loss: 719.1301 - val_loss: 165.8011\n",
      "Epoch 99/100\n",
      "524/524 [==============================] - 1s 3ms/step - loss: 702.9406 - val_loss: 169.7077\n",
      "Epoch 100/100\n",
      "524/524 [==============================] - 2s 3ms/step - loss: 695.5117 - val_loss: 167.9886\n"
     ]
    },
    {
     "data": {
      "text/plain": [
       "<keras.callbacks.History at 0x2517e11eb10>"
      ]
     },
     "execution_count": 76,
     "metadata": {},
     "output_type": "execute_result"
    }
   ],
   "source": [
    "model.fit(x=X_train, y=y_train, epochs=100, validation_data=(X_test, y_test))"
   ]
  },
  {
   "cell_type": "code",
   "execution_count": 80,
   "id": "21285868",
   "metadata": {},
   "outputs": [
    {
     "data": {
      "text/html": [
       "<div>\n",
       "<style scoped>\n",
       "    .dataframe tbody tr th:only-of-type {\n",
       "        vertical-align: middle;\n",
       "    }\n",
       "\n",
       "    .dataframe tbody tr th {\n",
       "        vertical-align: top;\n",
       "    }\n",
       "\n",
       "    .dataframe thead th {\n",
       "        text-align: right;\n",
       "    }\n",
       "</style>\n",
       "<table border=\"1\" class=\"dataframe\">\n",
       "  <thead>\n",
       "    <tr style=\"text-align: right;\">\n",
       "      <th></th>\n",
       "      <th>loss</th>\n",
       "      <th>val_loss</th>\n",
       "    </tr>\n",
       "  </thead>\n",
       "  <tbody>\n",
       "    <tr>\n",
       "      <th>0</th>\n",
       "      <td>1824.520874</td>\n",
       "      <td>381.351227</td>\n",
       "    </tr>\n",
       "    <tr>\n",
       "      <th>1</th>\n",
       "      <td>1786.564453</td>\n",
       "      <td>356.330933</td>\n",
       "    </tr>\n",
       "    <tr>\n",
       "      <th>2</th>\n",
       "      <td>1773.135620</td>\n",
       "      <td>351.282166</td>\n",
       "    </tr>\n",
       "    <tr>\n",
       "      <th>3</th>\n",
       "      <td>1701.007324</td>\n",
       "      <td>409.139648</td>\n",
       "    </tr>\n",
       "    <tr>\n",
       "      <th>4</th>\n",
       "      <td>1639.272095</td>\n",
       "      <td>321.078735</td>\n",
       "    </tr>\n",
       "  </tbody>\n",
       "</table>\n",
       "</div>"
      ],
      "text/plain": [
       "          loss    val_loss\n",
       "0  1824.520874  381.351227\n",
       "1  1786.564453  356.330933\n",
       "2  1773.135620  351.282166\n",
       "3  1701.007324  409.139648\n",
       "4  1639.272095  321.078735"
      ]
     },
     "execution_count": 80,
     "metadata": {},
     "output_type": "execute_result"
    }
   ],
   "source": [
    "losses = pd.DataFrame(model.history.history)\n",
    "losses.head()"
   ]
  },
  {
   "cell_type": "code",
   "execution_count": 81,
   "id": "e7178292",
   "metadata": {},
   "outputs": [
    {
     "data": {
      "text/plain": [
       "<Axes: >"
      ]
     },
     "execution_count": 81,
     "metadata": {},
     "output_type": "execute_result"
    },
    {
     "data": {
      "image/png": "[encoded data removed]",
      "text/plain": [
       "<Figure size 640x480 with 1 Axes>"
      ]
     },
     "metadata": {},
     "output_type": "display_data"
    }
   ],
   "source": [
    "losses.plot()"
   ]
  },
  {
   "cell_type": "markdown",
   "id": "30c038a2",
   "metadata": {},
   "source": [
    "## Model Training - Regression Algorithms"
   ]
  },
  {
   "cell_type": "code",
   "execution_count": 92,
   "id": "72d942e1",
   "metadata": {},
   "outputs": [],
   "source": [
    "def predict(alg):\n",
    "    model = alg().fit(X_train, y_train)\n",
    "    y_pred = model.predict(X_test)\n",
    "    RMSE = np.sqrt(mean_squared_error(y_test, y_pred))\n",
    "    model_name = alg.__name__\n",
    "    r2 = r2_score(y_test, y_pred)\n",
    "    \n",
    "    print(model_name)\n",
    "    print(\"Model RMSE:\", RMSE, \"\\t Model R2 score:\", r2)\n",
    "    print()"
   ]
  },
  {
   "cell_type": "code",
   "execution_count": 95,
   "id": "d9caa09c",
   "metadata": {},
   "outputs": [
    {
     "name": "stdout",
     "output_type": "stream",
     "text": [
      "LinearRegression\n",
      "Model RMSE: 10.133196365333593 \t Model R2 score: 0.2503000193338577\n",
      "\n",
      "Ridge\n",
      "Model RMSE: 10.13331293514564 \t Model R2 score: 0.2502827705042967\n",
      "\n",
      "Lasso\n",
      "Model RMSE: 11.70399654169072 \t Model R2 score: -0.0001449625701728241\n",
      "\n",
      "ElasticNet\n",
      "Model RMSE: 11.67422669682012 \t Model R2 score: 0.004936428912014068\n",
      "\n",
      "RandomForestRegressor\n",
      "Model RMSE: 10.132792594691757 \t Model R2 score: 0.2503597637226147\n",
      "\n"
     ]
    }
   ],
   "source": [
    "for model in [LinearRegression, Ridge, Lasso, ElasticNet, RandomForestRegressor]:\n",
    "    predict(model)"
   ]
  },
  {
   "cell_type": "markdown",
   "id": "4f797869",
   "metadata": {},
   "source": [
    ":(  \n",
    "One of the worst models i have ever created !"
   ]
  }
 ],
 "metadata": {
  "kernelspec": {
   "display_name": "Python 3 (ipykernel)",
   "language": "python",
   "name": "python3"
  },
  "language_info": {
   "codemirror_mode": {
    "name": "ipython",
    "version": 3
   },
   "file_extension": ".py",
   "mimetype": "text/x-python",
   "name": "python",
   "nbconvert_exporter": "python",
   "pygments_lexer": "ipython3",
   "version": "3.11.3"
  }
 },
 "nbformat": 4,
 "nbformat_minor": 5
}
