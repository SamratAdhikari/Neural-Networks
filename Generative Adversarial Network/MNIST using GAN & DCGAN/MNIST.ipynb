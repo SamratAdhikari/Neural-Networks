{
  "nbformat": 4,
  "nbformat_minor": 0,
  "metadata": {
    "colab": {
      "provenance": [],
      "gpuType": "T4"
    },
    "kernelspec": {
      "name": "python3",
      "display_name": "Python 3"
    },
    "language_info": {
      "name": "python"
    },
    "accelerator": "GPU"
  },
  "cells": [
    {
      "cell_type": "code",
      "execution_count": 52,
      "metadata": {
        "id": "z5DEjutffQs0"
      },
      "outputs": [],
      "source": [
        "import numpy as np\n",
        "import pandas as pd\n",
        "import matplotlib.pyplot as plt\n",
        "import seaborn as sns\n",
        "from tensorflow.keras.datasets import mnist\n",
        "import tensorflow as tf\n",
        "from tensorflow.keras.models import Sequential\n",
        "from tensorflow.keras.layers import Dense, Reshape, Flatten, Dropout, LeakyReLU, BatchNormalization, Conv2D, Conv2DTranspose"
      ]
    },
    {
      "cell_type": "markdown",
      "source": [
        "### Initialize dataset"
      ],
      "metadata": {
        "id": "AoZNYifOgi1g"
      }
    },
    {
      "cell_type": "code",
      "source": [
        "(X_train, y_train), (X_test, y_test) = mnist.load_data()"
      ],
      "metadata": {
        "id": "usKcKS6bfdwB"
      },
      "execution_count": 53,
      "outputs": []
    },
    {
      "cell_type": "code",
      "source": [
        "plt.imshow(X_train[0])"
      ],
      "metadata": {
        "colab": {
          "base_uri": "https://localhost:8080/",
          "height": 448
        },
        "id": "RqW2ti6TfpBw",
        "outputId": "bb63a5b1-0100-4eb2-cdc3-8e01065e7088"
      },
      "execution_count": 54,
      "outputs": [
        {
          "output_type": "execute_result",
          "data": {
            "text/plain": [
              "<matplotlib.image.AxesImage at 0x7ede25429ba0>"
            ]
          },
          "metadata": {},
          "execution_count": 54
        },
        {
          "output_type": "display_data",
          "data": {
            "text/plain": [
              "<Figure size 640x480 with 1 Axes>"
            ],
            "image/png": "[encoded data removed]"
          },
          "metadata": {}
        }
      ]
    },
    {
      "cell_type": "code",
      "source": [
        "y_train[0]"
      ],
      "metadata": {
        "colab": {
          "base_uri": "https://localhost:8080/"
        },
        "id": "0907fbe9ftrg",
        "outputId": "05ab8607-1d03-4893-b723-66c40f753235"
      },
      "execution_count": 55,
      "outputs": [
        {
          "output_type": "execute_result",
          "data": {
            "text/plain": [
              "5"
            ]
          },
          "metadata": {},
          "execution_count": 55
        }
      ]
    },
    {
      "cell_type": "code",
      "source": [
        "y_train==0"
      ],
      "metadata": {
        "colab": {
          "base_uri": "https://localhost:8080/"
        },
        "id": "zn-LQUkYf7vl",
        "outputId": "a137a4a1-dfec-4bb6-8625-4c76ee817830"
      },
      "execution_count": 56,
      "outputs": [
        {
          "output_type": "execute_result",
          "data": {
            "text/plain": [
              "array([False,  True, False, ..., False, False, False])"
            ]
          },
          "metadata": {},
          "execution_count": 56
        }
      ]
    },
    {
      "cell_type": "code",
      "source": [
        "zeros = X_train[y_train == 0]\n",
        "zeros.shape, X_train.shape"
      ],
      "metadata": {
        "colab": {
          "base_uri": "https://localhost:8080/"
        },
        "id": "N4nlJJ-5fw4u",
        "outputId": "13b488ff-e759-4385-cdfe-04c2f75ec794"
      },
      "execution_count": 57,
      "outputs": [
        {
          "output_type": "execute_result",
          "data": {
            "text/plain": [
              "((5923, 28, 28), (60000, 28, 28))"
            ]
          },
          "metadata": {},
          "execution_count": 57
        }
      ]
    },
    {
      "cell_type": "code",
      "source": [
        "plt.imshow(zeros[10])"
      ],
      "metadata": {
        "colab": {
          "base_uri": "https://localhost:8080/",
          "height": 448
        },
        "id": "873nopNGgDG4",
        "outputId": "9179d144-b969-4ae3-e736-bbbd562c6dcc"
      },
      "execution_count": 58,
      "outputs": [
        {
          "output_type": "execute_result",
          "data": {
            "text/plain": [
              "<matplotlib.image.AxesImage at 0x7ede22102500>"
            ]
          },
          "metadata": {},
          "execution_count": 58
        },
        {
          "output_type": "display_data",
          "data": {
            "text/plain": [
              "<Figure size 640x480 with 1 Axes>"
            ],
            "image/png": "[encoded data removed]"
          },
          "metadata": {}
        }
      ]
    },
    {
      "cell_type": "markdown",
      "source": [
        "### Generator & Discriminator - Classic GAN"
      ],
      "metadata": {
        "id": "Cp9E5uGBgvLJ"
      }
    },
    {
      "cell_type": "code",
      "source": [
        "discriminator = Sequential()\n",
        "discriminator.add(Flatten(input_shape=[28, 28]))\n",
        "discriminator.add(Dense(150, activation='relu'))\n",
        "discriminator.add(Dense(100, activation='relu'))\n",
        "discriminator.add(Dense(1, activation='sigmoid'))\n",
        "\n",
        "discriminator.compile(loss='binary_crossentropy', optimizer='adam')\n"
      ],
      "metadata": {
        "id": "uPuZ2L-ZgGj_"
      },
      "execution_count": 59,
      "outputs": []
    },
    {
      "cell_type": "code",
      "source": [
        "# generator is basically just the decoder of an autoencoder\n",
        "coding_size = 100\n",
        "\n",
        "generator = Sequential()\n",
        "generator.add(Dense(100, activation='relu', input_shape=[coding_size]))\n",
        "generator.add(Dense(150, activation='relu'))\n",
        "generator.add(Dense(784, activation='relu'))\n",
        "generator.add(Reshape([28, 28]))"
      ],
      "metadata": {
        "id": "CXyfQhlFjKbp"
      },
      "execution_count": 60,
      "outputs": []
    },
    {
      "cell_type": "code",
      "source": [
        "GAN = Sequential([generator, discriminator])"
      ],
      "metadata": {
        "id": "eUYHqP8uj2jr"
      },
      "execution_count": 61,
      "outputs": []
    },
    {
      "cell_type": "code",
      "source": [
        "discriminator.trainable = False"
      ],
      "metadata": {
        "id": "98Rq75H4j7Hj"
      },
      "execution_count": 62,
      "outputs": []
    },
    {
      "cell_type": "code",
      "source": [
        "GAN.compile(loss='binary_crossentropy', optimizer='adam')"
      ],
      "metadata": {
        "id": "gpw2z9AOkch3"
      },
      "execution_count": 63,
      "outputs": []
    },
    {
      "cell_type": "markdown",
      "source": [
        "### Training Batches"
      ],
      "metadata": {
        "id": "wlwFqUyylG4Z"
      }
    },
    {
      "cell_type": "code",
      "source": [
        "batch_size = 32\n",
        "data = zeros\n",
        "epochs = 5\n",
        "\n",
        "dataset = tf.data.Dataset.from_tensor_slices(data).shuffle(buffer_size=1000)\n",
        "type(dataset)"
      ],
      "metadata": {
        "colab": {
          "base_uri": "https://localhost:8080/",
          "height": 138
        },
        "id": "X9spI7jukhIO",
        "outputId": "0d6d8789-3841-48eb-e258-b931bb3e161d"
      },
      "execution_count": 64,
      "outputs": [
        {
          "output_type": "execute_result",
          "data": {
            "text/plain": [
              "tensorflow.python.data.ops.shuffle_op._ShuffleDataset"
            ],
            "text/html": [
              "<div style=\"max-width:800px; border: 1px solid var(--colab-border-color);\"><style>\n",
              "      pre.function-repr-contents {\n",
              "        overflow-x: auto;\n",
              "        padding: 8px 12px;\n",
              "        max-height: 500px;\n",
              "      }\n",
              "\n",
              "      pre.function-repr-contents.function-repr-contents-collapsed {\n",
              "        cursor: pointer;\n",
              "        max-height: 100px;\n",
              "      }\n",
              "    </style>\n",
              "    <pre style=\"white-space: initial; background:\n",
              "         var(--colab-secondary-surface-color); padding: 8px 12px;\n",
              "         border-bottom: 1px solid var(--colab-border-color);\"><b>tensorflow.python.data.ops.shuffle_op._ShuffleDataset</b><br/>def __init__(input_dataset, buffer_size, seed=None, reshuffle_each_iteration=None, name=None)</pre><pre class=\"function-repr-contents function-repr-contents-collapsed\" style=\"\"><a class=\"filepath\" style=\"display:none\" href=\"#\">/usr/local/lib/python3.10/dist-packages/tensorflow/python/data/ops/shuffle_op.py</a>A `Dataset` that randomly shuffles the elements of its input.</pre>\n",
              "      <script>\n",
              "      if (google.colab.kernel.accessAllowed && google.colab.files && google.colab.files.view) {\n",
              "        for (const element of document.querySelectorAll('.filepath')) {\n",
              "          element.style.display = 'block'\n",
              "          element.onclick = (event) => {\n",
              "            event.preventDefault();\n",
              "            event.stopPropagation();\n",
              "            google.colab.files.view(element.textContent, 35);\n",
              "          };\n",
              "        }\n",
              "      }\n",
              "      for (const element of document.querySelectorAll('.function-repr-contents')) {\n",
              "        element.onclick = (event) => {\n",
              "          event.preventDefault();\n",
              "          event.stopPropagation();\n",
              "          element.classList.toggle('function-repr-contents-collapsed');\n",
              "        };\n",
              "      }\n",
              "      </script>\n",
              "      </div>"
            ]
          },
          "metadata": {},
          "execution_count": 64
        }
      ]
    },
    {
      "cell_type": "code",
      "source": [
        "print(data.shape)\n",
        "print('remainder =', data.shape[0] % batch_size)"
      ],
      "metadata": {
        "colab": {
          "base_uri": "https://localhost:8080/"
        },
        "id": "HlBcAzj3lv3_",
        "outputId": "d837b6eb-dadb-4a53-ea0d-e018b525f32f"
      },
      "execution_count": 65,
      "outputs": [
        {
          "output_type": "stream",
          "name": "stdout",
          "text": [
            "(5923, 28, 28)\n",
            "remainder = 3\n"
          ]
        }
      ]
    },
    {
      "cell_type": "code",
      "source": [
        "dataset = dataset.batch(batch_size, drop_remainder=True).prefetch(1)"
      ],
      "metadata": {
        "id": "isBi12tXljPc"
      },
      "execution_count": 66,
      "outputs": []
    },
    {
      "cell_type": "code",
      "source": [
        "GAN.layers"
      ],
      "metadata": {
        "colab": {
          "base_uri": "https://localhost:8080/"
        },
        "id": "sBglRgg3mK-S",
        "outputId": "dd441163-bb17-4aac-cd05-a2d47043c187"
      },
      "execution_count": 67,
      "outputs": [
        {
          "output_type": "execute_result",
          "data": {
            "text/plain": [
              "[<keras.src.engine.sequential.Sequential at 0x7ede24b26f20>,\n",
              " <keras.src.engine.sequential.Sequential at 0x7ede24b248e0>]"
            ]
          },
          "metadata": {},
          "execution_count": 67
        }
      ]
    },
    {
      "cell_type": "code",
      "source": [
        "GAN.summary()"
      ],
      "metadata": {
        "colab": {
          "base_uri": "https://localhost:8080/"
        },
        "id": "H_IBEhROmMbY",
        "outputId": "fa61bd0c-a1aa-40cf-f71e-5194ef73e100"
      },
      "execution_count": 68,
      "outputs": [
        {
          "output_type": "stream",
          "name": "stdout",
          "text": [
            "Model: \"sequential_8\"\n",
            "_________________________________________________________________\n",
            " Layer (type)                Output Shape              Param #   \n",
            "=================================================================\n",
            " sequential_7 (Sequential)   (None, 28, 28)            143634    \n",
            "                                                                 \n",
            " sequential_6 (Sequential)   (None, 1)                 132951    \n",
            "                                                                 \n",
            "=================================================================\n",
            "Total params: 276585 (1.06 MB)\n",
            "Trainable params: 143634 (561.07 KB)\n",
            "Non-trainable params: 132951 (519.34 KB)\n",
            "_________________________________________________________________\n"
          ]
        }
      ]
    },
    {
      "cell_type": "code",
      "source": [
        "generator, discriminator = GAN.layers\n",
        "\n",
        "for epoch in range(epochs):generator, discriminator = GAN.layers\n",
        "\n",
        "for epoch in range(epochs):\n",
        "  print(f'Current Epoch {epoch+1}')\n",
        "  i = 0\n",
        "\n",
        "  for X_batch in dataset:\n",
        "    i += 1\n",
        "    if i % 100 == 0:\n",
        "      print(f'Current Batch {i} of {len(data) // batch_size}')\n",
        "\n",
        "    # Discriminator training phase\n",
        "    noise = tf.random.normal(shape=[batch_size, coding_size])\n",
        "    gen_images = generator(noise)\n",
        "    X_fake_vs_real = tf.concat([gen_images, tf.dtypes.cast(X_batch, tf.float32)], axis=0)\n",
        "    y1 = tf.constant([[0.0]]*batch_size + [[1.0]]*batch_size)\n",
        "\n",
        "    discriminator.trainable = True\n",
        "    discriminator.train_on_batch(X_fake_vs_real, y1)\n",
        "\n",
        "    # Generator training phase\n",
        "    noise = tf.random.normal(shape=[batch_size, coding_size])\n",
        "    y2 = tf.constant([[1.0]]*batch_size)\n",
        "\n",
        "    discriminator.trainable = False\n",
        "    GAN.train_on_batch(noise, y2)\n",
        "  print(f'Current Epoch {epoch+1}')\n",
        "  i = 0\n",
        "\n",
        "  for X_batch in dataset:\n",
        "    i += 1\n",
        "    if i % 100 == 0:\n",
        "      print(f'Current Batch {i} of {len(data) // batch_size}')\n",
        "\n",
        "    # Discriminator training phase\n",
        "    noise = tf.random.normal(shape=[batch_size, coding_size])\n",
        "    gen_images = generator(noise)\n",
        "    X_fake_vs_real = tf.concat([gen_images, tf.dtypes.cast(X_batch, tf.float32)], axis=0)\n",
        "    y1 = tf.constant([[0.0]]*batch_size + [[1.0]]*batch_size)\n",
        "\n",
        "    discriminator.trainable = True\n",
        "    discriminator.train_on_batch(X_fake_vs_real, y1)\n",
        "\n",
        "    # Generator training phase\n",
        "    noise = tf.random.normal(shape=[batch_size, coding_size])\n",
        "    y2 = tf.constant([[1.0]]*batch_size)\n",
        "\n",
        "    discriminator.trainable = False\n",
        "    GAN.train_on_batch(noise, y2)"
      ],
      "metadata": {
        "colab": {
          "base_uri": "https://localhost:8080/"
        },
        "id": "w0ZGsVJ_mXGq",
        "outputId": "9e279e0c-d24f-44fa-b7ca-b4d1e06c8625"
      },
      "execution_count": 69,
      "outputs": [
        {
          "output_type": "stream",
          "name": "stdout",
          "text": [
            "Current Epoch 1\n",
            "Current Batch 100 of 185\n",
            "Current Epoch 1\n",
            "Current Batch 100 of 185\n",
            "Current Epoch 2\n",
            "Current Batch 100 of 185\n",
            "Current Epoch 2\n",
            "Current Batch 100 of 185\n",
            "Current Epoch 3\n",
            "Current Batch 100 of 185\n",
            "Current Epoch 3\n",
            "Current Batch 100 of 185\n",
            "Current Epoch 4\n",
            "Current Batch 100 of 185\n",
            "Current Epoch 4\n",
            "Current Batch 100 of 185\n",
            "Current Epoch 5\n",
            "Current Batch 100 of 185\n",
            "Current Epoch 5\n",
            "Current Batch 100 of 185\n"
          ]
        }
      ]
    },
    {
      "cell_type": "code",
      "source": [
        "noise = tf.random.normal(shape=[10, coding_size])\n",
        "noise.shape"
      ],
      "metadata": {
        "colab": {
          "base_uri": "https://localhost:8080/"
        },
        "id": "kyLhv2Q-rRn3",
        "outputId": "9e9ec002-5d2f-46f8-e1a1-4b41b28e7faf"
      },
      "execution_count": 70,
      "outputs": [
        {
          "output_type": "execute_result",
          "data": {
            "text/plain": [
              "TensorShape([10, 100])"
            ]
          },
          "metadata": {},
          "execution_count": 70
        }
      ]
    },
    {
      "cell_type": "code",
      "source": [
        "plt.imshow(noise)"
      ],
      "metadata": {
        "colab": {
          "base_uri": "https://localhost:8080/",
          "height": 131
        },
        "id": "vqAZslnQrdia",
        "outputId": "1e60d4d2-c4dc-47a3-f110-6eb7a43c6a56"
      },
      "execution_count": 71,
      "outputs": [
        {
          "output_type": "execute_result",
          "data": {
            "text/plain": [
              "<matplotlib.image.AxesImage at 0x7ede24b9b7f0>"
            ]
          },
          "metadata": {},
          "execution_count": 71
        },
        {
          "output_type": "display_data",
          "data": {
            "text/plain": [
              "<Figure size 640x480 with 1 Axes>"
            ],
            "image/png": "[encoded data removed]"
          },
          "metadata": {}
        }
      ]
    },
    {
      "cell_type": "code",
      "source": [
        "images = generator(noise)\n",
        "images.shape"
      ],
      "metadata": {
        "colab": {
          "base_uri": "https://localhost:8080/"
        },
        "id": "FgrPrcCUrfbP",
        "outputId": "b4932615-0a6a-4876-999f-053dc7e2da6a"
      },
      "execution_count": 72,
      "outputs": [
        {
          "output_type": "execute_result",
          "data": {
            "text/plain": [
              "TensorShape([10, 28, 28])"
            ]
          },
          "metadata": {},
          "execution_count": 72
        }
      ]
    },
    {
      "cell_type": "code",
      "source": [
        "plt.imshow(images[0])"
      ],
      "metadata": {
        "colab": {
          "base_uri": "https://localhost:8080/",
          "height": 448
        },
        "id": "jVQqJV06rkKF",
        "outputId": "997e9f24-b87d-4f7c-bee3-6eab68afbef7"
      },
      "execution_count": 73,
      "outputs": [
        {
          "output_type": "execute_result",
          "data": {
            "text/plain": [
              "<matplotlib.image.AxesImage at 0x7ede2676bf40>"
            ]
          },
          "metadata": {},
          "execution_count": 73
        },
        {
          "output_type": "display_data",
          "data": {
            "text/plain": [
              "<Figure size 640x480 with 1 Axes>"
            ],
            "image/png": "[encoded data removed]"
          },
          "metadata": {}
        }
      ]
    },
    {
      "cell_type": "code",
      "source": [
        "plt.imshow(images[1])"
      ],
      "metadata": {
        "colab": {
          "base_uri": "https://localhost:8080/",
          "height": 448
        },
        "id": "gaN1EKpkrnfs",
        "outputId": "06da5003-cfdf-4e8c-af9e-97a4296376c2"
      },
      "execution_count": 74,
      "outputs": [
        {
          "output_type": "execute_result",
          "data": {
            "text/plain": [
              "<matplotlib.image.AxesImage at 0x7ede277dfb50>"
            ]
          },
          "metadata": {},
          "execution_count": 74
        },
        {
          "output_type": "display_data",
          "data": {
            "text/plain": [
              "<Figure size 640x480 with 1 Axes>"
            ],
            "image/png": "[encoded data removed]"
          },
          "metadata": {}
        }
      ]
    },
    {
      "cell_type": "markdown",
      "source": [
        "### Generator & Discriminator - DC GAN"
      ],
      "metadata": {
        "id": "ek6wd9FdtJsu"
      }
    },
    {
      "cell_type": "markdown",
      "source": [
        "**Reshape and Rescale images for DCGAN**"
      ],
      "metadata": {
        "id": "qJUfJPmrtU_D"
      }
    },
    {
      "cell_type": "code",
      "source": [
        "# Generator will use tanh activation func for the last layer,\n",
        "# hence we have to reshape X_train to range(-1, 1).\n",
        "\n",
        "X_train = X_train / 255\n",
        "X_train = X_train.reshape(-1, 28, 28, 1) * 2 - 1"
      ],
      "metadata": {
        "id": "zxuwaSVMtNDD"
      },
      "execution_count": 75,
      "outputs": []
    },
    {
      "cell_type": "code",
      "source": [
        "X_train.min(), X_train.max()"
      ],
      "metadata": {
        "colab": {
          "base_uri": "https://localhost:8080/"
        },
        "id": "XepsNNvdt5uu",
        "outputId": "149b96d1-3210-4281-aebc-41b3eb6c62a1"
      },
      "execution_count": 76,
      "outputs": [
        {
          "output_type": "execute_result",
          "data": {
            "text/plain": [
              "(-1.0, 1.0)"
            ]
          },
          "metadata": {},
          "execution_count": 76
        }
      ]
    },
    {
      "cell_type": "code",
      "source": [
        "zeros = X_train[y_train == 0]\n",
        "zeros.shape"
      ],
      "metadata": {
        "colab": {
          "base_uri": "https://localhost:8080/"
        },
        "id": "oRecsrp9t9wS",
        "outputId": "316f2d8d-3e39-4526-d7cf-b592920cab4b"
      },
      "execution_count": 77,
      "outputs": [
        {
          "output_type": "execute_result",
          "data": {
            "text/plain": [
              "(5923, 28, 28, 1)"
            ]
          },
          "metadata": {},
          "execution_count": 77
        }
      ]
    },
    {
      "cell_type": "code",
      "source": [
        "np.random.seed(42)\n",
        "tf.random.set_seed(42)\n",
        "coding_size = 100"
      ],
      "metadata": {
        "id": "tRC2ZJNcuG_0"
      },
      "execution_count": 78,
      "outputs": []
    },
    {
      "cell_type": "code",
      "source": [
        "generator = Sequential()\n",
        "generator.add(Dense(7*7*128, input_shape=[coding_size]))\n",
        "generator.add(Reshape([7, 7, 128]))\n",
        "generator.add(BatchNormalization())\n",
        "generator.add(Conv2DTranspose(64, kernel_size=5, strides=2,\n",
        "                              padding='same', activation='relu'))\n",
        "generator.add(BatchNormalization())\n",
        "generator.add(Conv2DTranspose(1, kernel_size=5, strides=2,\n",
        "                              padding='same', activation='tanh'))"
      ],
      "metadata": {
        "id": "BiB6PChKut_3"
      },
      "execution_count": 79,
      "outputs": []
    },
    {
      "cell_type": "code",
      "source": [
        "discriminator = Sequential()\n",
        "discriminator.add(Conv2D(64, kernel_size=5, strides=2, padding='same',\n",
        "                         activation=LeakyReLU(0.3), input_shape=[28, 28, 1]))\n",
        "discriminator.add(Dropout(0.5))\n",
        "discriminator.add(Conv2D(128, kernel_size=5, strides=2, padding='same',\n",
        "                         activation=LeakyReLU(0.3)))\n",
        "discriminator.add(Dropout(0.5))\n",
        "discriminator.add(Flatten())\n",
        "discriminator.add(Dense(1, activation='sigmoid'))"
      ],
      "metadata": {
        "id": "H-RRz3cTzQ5g"
      },
      "execution_count": 90,
      "outputs": []
    },
    {
      "cell_type": "code",
      "source": [
        "GAN = Sequential([generator, discriminator])"
      ],
      "metadata": {
        "id": "sctXrRxnz4Ry"
      },
      "execution_count": 91,
      "outputs": []
    },
    {
      "cell_type": "code",
      "source": [
        "discriminator.compile(loss='binary_crossentropy', optimizer='adam')\n",
        "discriminator.trainable = False"
      ],
      "metadata": {
        "id": "ZgYTboZWz82W"
      },
      "execution_count": 92,
      "outputs": []
    },
    {
      "cell_type": "code",
      "source": [
        "GAN.compile(loss='binary_crossentropy', optimizer='adam')\n",
        "GAN.layers"
      ],
      "metadata": {
        "colab": {
          "base_uri": "https://localhost:8080/"
        },
        "id": "vkjy8Jkw0LJo",
        "outputId": "41694eb7-702b-4aa5-b604-4c2d771fa547"
      },
      "execution_count": 93,
      "outputs": [
        {
          "output_type": "execute_result",
          "data": {
            "text/plain": [
              "[<keras.src.engine.sequential.Sequential at 0x7ede2676b310>,\n",
              " <keras.src.engine.sequential.Sequential at 0x7ede277b7e20>]"
            ]
          },
          "metadata": {},
          "execution_count": 93
        }
      ]
    },
    {
      "cell_type": "code",
      "source": [
        "GAN.summary()"
      ],
      "metadata": {
        "colab": {
          "base_uri": "https://localhost:8080/"
        },
        "id": "5zEKhfof0Umc",
        "outputId": "cb0894c2-ac98-4dc7-d451-c55a67999e4d"
      },
      "execution_count": 94,
      "outputs": [
        {
          "output_type": "stream",
          "name": "stdout",
          "text": [
            "Model: \"sequential_13\"\n",
            "_________________________________________________________________\n",
            " Layer (type)                Output Shape              Param #   \n",
            "=================================================================\n",
            " sequential_9 (Sequential)   (None, 28, 28, 1)         840705    \n",
            "                                                                 \n",
            " sequential_12 (Sequential)  (None, 1)                 212865    \n",
            "                                                                 \n",
            "=================================================================\n",
            "Total params: 1053570 (4.02 MB)\n",
            "Trainable params: 840321 (3.21 MB)\n",
            "Non-trainable params: 213249 (833.00 KB)\n",
            "_________________________________________________________________\n"
          ]
        }
      ]
    },
    {
      "cell_type": "code",
      "source": [
        "batch_size = 32\n",
        "data = zeros\n",
        "epochs = 30\n",
        "\n",
        "dataset = tf.data.Dataset.from_tensor_slices(data).shuffle(buffer_size=1000)\n",
        "type(dataset)"
      ],
      "metadata": {
        "colab": {
          "base_uri": "https://localhost:8080/",
          "height": 138
        },
        "id": "wSPb9G_q0V3U",
        "outputId": "752a1e99-bdc8-41f9-f062-79849d7a317d"
      },
      "execution_count": 95,
      "outputs": [
        {
          "output_type": "execute_result",
          "data": {
            "text/plain": [
              "tensorflow.python.data.ops.shuffle_op._ShuffleDataset"
            ],
            "text/html": [
              "<div style=\"max-width:800px; border: 1px solid var(--colab-border-color);\"><style>\n",
              "      pre.function-repr-contents {\n",
              "        overflow-x: auto;\n",
              "        padding: 8px 12px;\n",
              "        max-height: 500px;\n",
              "      }\n",
              "\n",
              "      pre.function-repr-contents.function-repr-contents-collapsed {\n",
              "        cursor: pointer;\n",
              "        max-height: 100px;\n",
              "      }\n",
              "    </style>\n",
              "    <pre style=\"white-space: initial; background:\n",
              "         var(--colab-secondary-surface-color); padding: 8px 12px;\n",
              "         border-bottom: 1px solid var(--colab-border-color);\"><b>tensorflow.python.data.ops.shuffle_op._ShuffleDataset</b><br/>def __init__(input_dataset, buffer_size, seed=None, reshuffle_each_iteration=None, name=None)</pre><pre class=\"function-repr-contents function-repr-contents-collapsed\" style=\"\"><a class=\"filepath\" style=\"display:none\" href=\"#\">/usr/local/lib/python3.10/dist-packages/tensorflow/python/data/ops/shuffle_op.py</a>A `Dataset` that randomly shuffles the elements of its input.</pre>\n",
              "      <script>\n",
              "      if (google.colab.kernel.accessAllowed && google.colab.files && google.colab.files.view) {\n",
              "        for (const element of document.querySelectorAll('.filepath')) {\n",
              "          element.style.display = 'block'\n",
              "          element.onclick = (event) => {\n",
              "            event.preventDefault();\n",
              "            event.stopPropagation();\n",
              "            google.colab.files.view(element.textContent, 35);\n",
              "          };\n",
              "        }\n",
              "      }\n",
              "      for (const element of document.querySelectorAll('.function-repr-contents')) {\n",
              "        element.onclick = (event) => {\n",
              "          event.preventDefault();\n",
              "          event.stopPropagation();\n",
              "          element.classList.toggle('function-repr-contents-collapsed');\n",
              "        };\n",
              "      }\n",
              "      </script>\n",
              "      </div>"
            ]
          },
          "metadata": {},
          "execution_count": 95
        }
      ]
    },
    {
      "cell_type": "code",
      "source": [
        "dataset = dataset.batch(batch_size, drop_remainder=True).prefetch(1)"
      ],
      "metadata": {
        "id": "o4ut0zkx0lFn"
      },
      "execution_count": 96,
      "outputs": []
    },
    {
      "cell_type": "code",
      "source": [
        "generator, discriminator = GAN.layers\n",
        "\n",
        "for epoch in range(epochs):\n",
        "  print(f'Current Epoch {epoch+1}')\n",
        "  i = 0\n",
        "\n",
        "  for X_batch in dataset:\n",
        "    i += 1\n",
        "    if i % 100 == 0:\n",
        "      print(f'Current Batch {i} of {len(data) // batch_size}')\n",
        "\n",
        "    # Discriminator training phase\n",
        "    noise = tf.random.normal(shape=[batch_size, coding_size])\n",
        "    gen_images = generator(noise)\n",
        "    X_fake_vs_real = tf.concat([gen_images, tf.dtypes.cast(X_batch, tf.float32)], axis=0)\n",
        "    y1 = tf.constant([[0.0]]*batch_size + [[1.0]]*batch_size)\n",
        "\n",
        "    discriminator.trainable = True\n",
        "    discriminator.train_on_batch(X_fake_vs_real, y1)\n",
        "\n",
        "    # Generator training phase\n",
        "    noise = tf.random.normal(shape=[batch_size, coding_size])\n",
        "    y2 = tf.constant([[1.0]]*batch_size)\n",
        "\n",
        "    discriminator.trainable = False\n",
        "    GAN.train_on_batch(noise, y2)"
      ],
      "metadata": {
        "colab": {
          "base_uri": "https://localhost:8080/"
        },
        "id": "wzvRK48U0qDo",
        "outputId": "a4dbbc03-6406-4d60-a68e-d9f316dedf6f"
      },
      "execution_count": 97,
      "outputs": [
        {
          "output_type": "stream",
          "name": "stdout",
          "text": [
            "Current Epoch 1\n",
            "Current Batch 100 of 185\n",
            "Current Epoch 2\n",
            "Current Batch 100 of 185\n",
            "Current Epoch 3\n",
            "Current Batch 100 of 185\n",
            "Current Epoch 4\n",
            "Current Batch 100 of 185\n",
            "Current Epoch 5\n",
            "Current Batch 100 of 185\n",
            "Current Epoch 6\n",
            "Current Batch 100 of 185\n",
            "Current Epoch 7\n",
            "Current Batch 100 of 185\n",
            "Current Epoch 8\n",
            "Current Batch 100 of 185\n",
            "Current Epoch 9\n",
            "Current Batch 100 of 185\n",
            "Current Epoch 10\n",
            "Current Batch 100 of 185\n",
            "Current Epoch 11\n",
            "Current Batch 100 of 185\n",
            "Current Epoch 12\n",
            "Current Batch 100 of 185\n",
            "Current Epoch 13\n",
            "Current Batch 100 of 185\n",
            "Current Epoch 14\n",
            "Current Batch 100 of 185\n",
            "Current Epoch 15\n",
            "Current Batch 100 of 185\n",
            "Current Epoch 16\n",
            "Current Batch 100 of 185\n",
            "Current Epoch 17\n",
            "Current Batch 100 of 185\n",
            "Current Epoch 18\n",
            "Current Batch 100 of 185\n",
            "Current Epoch 19\n",
            "Current Batch 100 of 185\n",
            "Current Epoch 20\n",
            "Current Batch 100 of 185\n",
            "Current Epoch 21\n",
            "Current Batch 100 of 185\n",
            "Current Epoch 22\n",
            "Current Batch 100 of 185\n",
            "Current Epoch 23\n",
            "Current Batch 100 of 185\n",
            "Current Epoch 24\n",
            "Current Batch 100 of 185\n",
            "Current Epoch 25\n",
            "Current Batch 100 of 185\n",
            "Current Epoch 26\n",
            "Current Batch 100 of 185\n",
            "Current Epoch 27\n",
            "Current Batch 100 of 185\n",
            "Current Epoch 28\n",
            "Current Batch 100 of 185\n",
            "Current Epoch 29\n",
            "Current Batch 100 of 185\n",
            "Current Epoch 30\n",
            "Current Batch 100 of 185\n"
          ]
        }
      ]
    },
    {
      "cell_type": "markdown",
      "source": [
        "**NOTE**  \n",
        "The generator never actually sees any real images. It learns by viewing the gradientsgoing back through the discriminator. The better the discriminator gets throught training, the more info the discriminator contains in its gradients, which means the generator can begin to make progress in learning how to generate fake images, in our case, fakse zeros.\n",
        "\n",
        "Mode Collapse:  \n",
        "hhtps://www.quora.com/What-does-it-mean-if-all-produced-images-of-a-GAN-look-the-same"
      ],
      "metadata": {
        "id": "NkIfHAfT2ErN"
      }
    },
    {
      "cell_type": "code",
      "source": [
        "noise = tf.random.normal(shape=[10, coding_size])\n",
        "noise.shape"
      ],
      "metadata": {
        "colab": {
          "base_uri": "https://localhost:8080/"
        },
        "id": "gGEfYGoe02Tr",
        "outputId": "577d4eae-0734-44c3-97a7-b144cad3858a"
      },
      "execution_count": 98,
      "outputs": [
        {
          "output_type": "execute_result",
          "data": {
            "text/plain": [
              "TensorShape([10, 100])"
            ]
          },
          "metadata": {},
          "execution_count": 98
        }
      ]
    },
    {
      "cell_type": "code",
      "source": [
        "plt.imshow(noise)"
      ],
      "metadata": {
        "colab": {
          "base_uri": "https://localhost:8080/",
          "height": 131
        },
        "id": "YFUT07wp27HK",
        "outputId": "758a8541-7656-4c98-caa4-b5bdf9abe08e"
      },
      "execution_count": 99,
      "outputs": [
        {
          "output_type": "execute_result",
          "data": {
            "text/plain": [
              "<matplotlib.image.AxesImage at 0x7ede2769af80>"
            ]
          },
          "metadata": {},
          "execution_count": 99
        },
        {
          "output_type": "display_data",
          "data": {
            "text/plain": [
              "<Figure size 640x480 with 1 Axes>"
            ],
            "image/png": "[encoded data removed]"
          },
          "metadata": {}
        }
      ]
    },
    {
      "cell_type": "code",
      "source": [
        "images = generator(noise)"
      ],
      "metadata": {
        "id": "tgqRQ5En284U"
      },
      "execution_count": 100,
      "outputs": []
    },
    {
      "cell_type": "code",
      "source": [
        "for image in images:\n",
        "  plt.imshow(image.numpy().reshape(28, 28))\n",
        "  plt.show()"
      ],
      "metadata": {
        "colab": {
          "base_uri": "https://localhost:8080/",
          "height": 1000
        },
        "id": "DaEoBb8E3B-I",
        "outputId": "75a8954a-6488-4177-b90a-e0e95cfbd350"
      },
      "execution_count": 101,
      "outputs": [
        {
          "output_type": "display_data",
          "data": {
            "text/plain": [
              "<Figure size 640x480 with 1 Axes>"
            ],
            "image/png": "[encoded data removed]"
          },
          "metadata": {}
        },
        {
          "output_type": "display_data",
          "data": {
            "text/plain": [
              "<Figure size 640x480 with 1 Axes>"
            ],
            "image/png": "[encoded data removed]"
          },
          "metadata": {}
        },
        {
          "output_type": "display_data",
          "data": {
            "text/plain": [
              "<Figure size 640x480 with 1 Axes>"
            ],
            "image/png": "[encoded data removed]"
          },
          "metadata": {}
        },
        {
          "output_type": "display_data",
          "data": {
            "text/plain": [
              "<Figure size 640x480 with 1 Axes>"
            ],
            "image/png": "[encoded data removed]"
          },
          "metadata": {}
        },
        {
          "output_type": "display_data",
          "data": {
            "text/plain": [
              "<Figure size 640x480 with 1 Axes>"
            ],
            "image/png": "[encoded data removed]"
          },
          "metadata": {}
        },
        {
          "output_type": "display_data",
          "data": {
            "text/plain": [
              "<Figure size 640x480 with 1 Axes>"
            ],
            "image/png": "[encoded data removed]"
          },
          "metadata": {}
        },
        {
          "output_type": "display_data",
          "data": {
            "text/plain": [
              "<Figure size 640x480 with 1 Axes>"
            ],
            "image/png": "[encoded data removed]"
          },
          "metadata": {}
        },
        {
          "output_type": "display_data",
          "data": {
            "text/plain": [
              "<Figure size 640x480 with 1 Axes>"
            ],
            "image/png": "[encoded data removed]"
          },
          "metadata": {}
        },
        {
          "output_type": "display_data",
          "data": {
            "text/plain": [
              "<Figure size 640x480 with 1 Axes>"
            ],
            "image/png": "[encoded data removed]"
          },
          "metadata": {}
        },
        {
          "output_type": "display_data",
          "data": {
            "text/plain": [
              "<Figure size 640x480 with 1 Axes>"
            ],
            "image/png": "[encoded data removed]"
          },
          "metadata": {}
        }
      ]
    },
    {
      "cell_type": "markdown",
      "source": [
        "**Observe the variation in generated images. Pretty sick, arent they?**   \n",
        "**This is the courtesy of DCGAN - Deep Convolutional GAN**"
      ],
      "metadata": {
        "id": "QhX9fNgn3RTm"
      }
    }
  ]
}